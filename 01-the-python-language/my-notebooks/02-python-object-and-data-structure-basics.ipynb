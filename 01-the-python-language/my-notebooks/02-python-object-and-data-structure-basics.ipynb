{
 "cells": [
  {
   "cell_type": "markdown",
   "id": "49fc152e",
   "metadata": {},
   "source": [
    "### Python numbers"
   ]
  },
  {
   "cell_type": "code",
   "execution_count": 16,
   "id": "3743c5f6",
   "metadata": {},
   "outputs": [
    {
     "data": {
      "text/plain": [
       "3"
      ]
     },
     "execution_count": 16,
     "metadata": {},
     "output_type": "execute_result"
    }
   ],
   "source": [
    "2 + 1 # plus"
   ]
  },
  {
   "cell_type": "code",
   "execution_count": 2,
   "id": "56b9c0cf",
   "metadata": {},
   "outputs": [
    {
     "data": {
      "text/plain": [
       "1"
      ]
     },
     "execution_count": 2,
     "metadata": {},
     "output_type": "execute_result"
    }
   ],
   "source": [
    "2 - 1 # minus"
   ]
  },
  {
   "cell_type": "code",
   "execution_count": 3,
   "id": "dd1df61b",
   "metadata": {},
   "outputs": [
    {
     "data": {
      "text/plain": [
       "4"
      ]
     },
     "execution_count": 3,
     "metadata": {},
     "output_type": "execute_result"
    }
   ],
   "source": [
    "2 * 2 # multiply"
   ]
  },
  {
   "cell_type": "code",
   "execution_count": 4,
   "id": "ecfdaa3e",
   "metadata": {},
   "outputs": [
    {
     "data": {
      "text/plain": [
       "0.6666666666666666"
      ]
     },
     "execution_count": 4,
     "metadata": {},
     "output_type": "execute_result"
    }
   ],
   "source": [
    "2 / 3 # divide"
   ]
  },
  {
   "cell_type": "code",
   "execution_count": 6,
   "id": "c3f372c5",
   "metadata": {},
   "outputs": [
    {
     "data": {
      "text/plain": [
       "3"
      ]
     },
     "execution_count": 6,
     "metadata": {},
     "output_type": "execute_result"
    }
   ],
   "source": [
    "7 % 4 # Modulo"
   ]
  },
  {
   "cell_type": "code",
   "execution_count": 9,
   "id": "a5c4385d",
   "metadata": {},
   "outputs": [
    {
     "data": {
      "text/plain": [
       "2"
      ]
     },
     "execution_count": 9,
     "metadata": {},
     "output_type": "execute_result"
    }
   ],
   "source": [
    "(-7) % 3 # Modulo"
   ]
  },
  {
   "cell_type": "code",
   "execution_count": 10,
   "id": "b76eaf1b",
   "metadata": {},
   "outputs": [
    {
     "data": {
      "text/plain": [
       "8"
      ]
     },
     "execution_count": 10,
     "metadata": {},
     "output_type": "execute_result"
    }
   ],
   "source": [
    "2 ** 3 # power"
   ]
  },
  {
   "cell_type": "markdown",
   "id": "35464ca2",
   "metadata": {},
   "source": [
    "`https://docs.python.org/2/tutorial/floatingpoint.html`\n",
    "No matter how many base 2 digits you’re willing to use, the decimal value 0.1 cannot be represented exactly as a base 2 fraction. In base 2, 1/10 is the infinitely repeating fraction. On a typical machine running Python, there are 53 bits of precision available for a Python float. \n",
    "\n",
    "It’s easy to forget that the stored value is an approximation to the original decimal fraction, because of the way that floats are displayed at the interpreter prompt."
   ]
  },
  {
   "cell_type": "code",
   "execution_count": 12,
   "id": "b95aef52",
   "metadata": {},
   "outputs": [
    {
     "data": {
      "text/plain": [
       "0.30000000000000004"
      ]
     },
     "execution_count": 12,
     "metadata": {},
     "output_type": "execute_result"
    }
   ],
   "source": [
    "0.1+0.2 # approximation with decimal"
   ]
  },
  {
   "cell_type": "markdown",
   "id": "14183293",
   "metadata": {},
   "source": [
    "Other surprises follow from this one. \n",
    "For example, if you try to round the value 2.675 to two decimal places, you get this:"
   ]
  },
  {
   "cell_type": "code",
   "execution_count": 14,
   "id": "7869b9bc",
   "metadata": {},
   "outputs": [
    {
     "data": {
      "text/plain": [
       "2.67"
      ]
     },
     "execution_count": 14,
     "metadata": {},
     "output_type": "execute_result"
    }
   ],
   "source": [
    "round(2.675, 2) # surprise"
   ]
  },
  {
   "cell_type": "markdown",
   "id": "ebcd79d0",
   "metadata": {},
   "source": [
    "Since the decimal fraction 2.675 is exactly halfway between 2.67 and 2.68, you might expect the result here to be (a binary approximation to) 2.68. It’s not, because when the decimal string 2.675 is converted to a binary floating-point number, it’s again replaced with a binary approximation, whose exact value is 2.67499999999999982236431605997495353221893310546875. \n",
    "\n",
    "If you’re in a situation where you care which way your decimal halfway-cases are rounded, you should consider using the decimal module, which provides a nice way to “see” the exact value that’s stored in any particular Python float:"
   ]
  },
  {
   "cell_type": "code",
   "execution_count": 15,
   "id": "c72ed26d",
   "metadata": {},
   "outputs": [
    {
     "data": {
      "text/plain": [
       "Decimal('2.67499999999999982236431605997495353221893310546875')"
      ]
     },
     "execution_count": 15,
     "metadata": {},
     "output_type": "execute_result"
    }
   ],
   "source": [
    "from decimal import Decimal\n",
    "Decimal(2.675) # to see the exact value "
   ]
  },
  {
   "cell_type": "markdown",
   "id": "c7c36038",
   "metadata": {},
   "source": [
    "Still, don’t be unduly wary of floating-point! The errors in Python float operations are inherited from the floating-point hardware, and on most machines are on the order of no more than 1 part in `2**53` per operation. That’s more than adequate for most tasks, but you do need to keep in mind that it’s not decimal arithmetic, and that every float operation can suffer a new rounding error.\n",
    "\n",
    "While pathological cases do exist, for most casual use of floating-point arithmetic you’ll see the result you expect in the end if you simply round the display of your final results to the number of decimal digits you expect."
   ]
  },
  {
   "cell_type": "markdown",
   "id": "cddb896b",
   "metadata": {},
   "source": [
    "### Variable Assignments"
   ]
  },
  {
   "cell_type": "code",
   "execution_count": 17,
   "id": "0a14143a",
   "metadata": {},
   "outputs": [],
   "source": [
    "a = 5"
   ]
  },
  {
   "cell_type": "code",
   "execution_count": 18,
   "id": "e4e8d395",
   "metadata": {},
   "outputs": [
    {
     "data": {
      "text/plain": [
       "5"
      ]
     },
     "execution_count": 18,
     "metadata": {},
     "output_type": "execute_result"
    }
   ],
   "source": [
    "a"
   ]
  },
  {
   "cell_type": "code",
   "execution_count": 19,
   "id": "09dd0f71",
   "metadata": {},
   "outputs": [],
   "source": [
    "a = a + a"
   ]
  },
  {
   "cell_type": "code",
   "execution_count": 20,
   "id": "18660cd9",
   "metadata": {},
   "outputs": [
    {
     "data": {
      "text/plain": [
       "10"
      ]
     },
     "execution_count": 20,
     "metadata": {},
     "output_type": "execute_result"
    }
   ],
   "source": [
    "a"
   ]
  },
  {
   "cell_type": "code",
   "execution_count": 21,
   "id": "e179e5ae",
   "metadata": {},
   "outputs": [
    {
     "data": {
      "text/plain": [
       "int"
      ]
     },
     "execution_count": 21,
     "metadata": {},
     "output_type": "execute_result"
    }
   ],
   "source": [
    "type(a) # return type of a variable"
   ]
  },
  {
   "cell_type": "code",
   "execution_count": 22,
   "id": "23227111",
   "metadata": {},
   "outputs": [],
   "source": [
    "a = 3.2 # example of dynamic typing"
   ]
  },
  {
   "cell_type": "code",
   "execution_count": 24,
   "id": "63230ba2",
   "metadata": {},
   "outputs": [
    {
     "data": {
      "text/plain": [
       "float"
      ]
     },
     "execution_count": 24,
     "metadata": {},
     "output_type": "execute_result"
    }
   ],
   "source": [
    "type(a)"
   ]
  },
  {
   "cell_type": "code",
   "execution_count": 25,
   "id": "086a4b3e",
   "metadata": {},
   "outputs": [],
   "source": [
    "income = 3\n",
    "tax_rate = 0.2\n",
    "tax_amount = income * tax_rate"
   ]
  },
  {
   "cell_type": "code",
   "execution_count": 26,
   "id": "0fe271cd",
   "metadata": {},
   "outputs": [
    {
     "data": {
      "text/plain": [
       "0.6000000000000001"
      ]
     },
     "execution_count": 26,
     "metadata": {},
     "output_type": "execute_result"
    }
   ],
   "source": [
    "tax_amount"
   ]
  },
  {
   "cell_type": "markdown",
   "id": "9a36b41a",
   "metadata": {},
   "source": [
    "### Strings"
   ]
  },
  {
   "cell_type": "code",
   "execution_count": 1,
   "id": "c67f9d4f",
   "metadata": {},
   "outputs": [
    {
     "data": {
      "text/plain": [
       "'hello'"
      ]
     },
     "execution_count": 1,
     "metadata": {},
     "output_type": "execute_result"
    }
   ],
   "source": [
    "'hello' # string example"
   ]
  },
  {
   "cell_type": "code",
   "execution_count": 3,
   "id": "515e48e9",
   "metadata": {},
   "outputs": [
    {
     "data": {
      "text/plain": [
       "'This is a string'"
      ]
     },
     "execution_count": 3,
     "metadata": {},
     "output_type": "execute_result"
    }
   ],
   "source": [
    "'This is a string'"
   ]
  },
  {
   "cell_type": "code",
   "execution_count": 4,
   "id": "6d6adc52",
   "metadata": {},
   "outputs": [
    {
     "data": {
      "text/plain": [
       "\"I'm learning Python\""
      ]
     },
     "execution_count": 4,
     "metadata": {},
     "output_type": "execute_result"
    }
   ],
   "source": [
    "\"I'm learning Python\" # take advantage of single or double quotes"
   ]
  },
  {
   "cell_type": "code",
   "execution_count": 6,
   "id": "720c1422",
   "metadata": {},
   "outputs": [
    {
     "name": "stdout",
     "output_type": "stream",
     "text": [
      "hello\n",
      "world\n"
     ]
    }
   ],
   "source": [
    "print('hello')\n",
    "print(\"world\")"
   ]
  },
  {
   "cell_type": "code",
   "execution_count": 7,
   "id": "db0060eb",
   "metadata": {},
   "outputs": [
    {
     "name": "stdout",
     "output_type": "stream",
     "text": [
      "hello \n",
      " world\n"
     ]
    }
   ],
   "source": [
    "print('hello \\n world') # have a new line in a string"
   ]
  },
  {
   "cell_type": "code",
   "execution_count": 8,
   "id": "14b67c38",
   "metadata": {},
   "outputs": [
    {
     "name": "stdout",
     "output_type": "stream",
     "text": [
      "hello \tworld\n"
     ]
    }
   ],
   "source": [
    "print('hello \\tworld') # have a tab in a string"
   ]
  },
  {
   "cell_type": "code",
   "execution_count": 10,
   "id": "9e058595",
   "metadata": {},
   "outputs": [
    {
     "data": {
      "text/plain": [
       "11"
      ]
     },
     "execution_count": 10,
     "metadata": {},
     "output_type": "execute_result"
    }
   ],
   "source": [
    "len('hello round') # length of string"
   ]
  },
  {
   "cell_type": "markdown",
   "id": "72425913",
   "metadata": {},
   "source": [
    "### Indexing and Slicing with Strings"
   ]
  },
  {
   "cell_type": "code",
   "execution_count": 1,
   "id": "f34a9bed",
   "metadata": {},
   "outputs": [],
   "source": [
    "s = \"Hello World!\""
   ]
  },
  {
   "cell_type": "code",
   "execution_count": 2,
   "id": "0c4139e9",
   "metadata": {},
   "outputs": [
    {
     "data": {
      "text/plain": [
       "'H'"
      ]
     },
     "execution_count": 2,
     "metadata": {},
     "output_type": "execute_result"
    }
   ],
   "source": [
    "s[0] # get a char out of string"
   ]
  },
  {
   "cell_type": "code",
   "execution_count": 4,
   "id": "0f182878",
   "metadata": {},
   "outputs": [
    {
     "data": {
      "text/plain": [
       "'l'"
      ]
     },
     "execution_count": 4,
     "metadata": {},
     "output_type": "execute_result"
    }
   ],
   "source": [
    "s[9]"
   ]
  },
  {
   "cell_type": "code",
   "execution_count": 8,
   "id": "525e841b",
   "metadata": {},
   "outputs": [
    {
     "data": {
      "text/plain": [
       "'l'"
      ]
     },
     "execution_count": 8,
     "metadata": {},
     "output_type": "execute_result"
    }
   ],
   "source": [
    "s[-3] # reverese indexing"
   ]
  },
  {
   "cell_type": "code",
   "execution_count": 9,
   "id": "cb4e3f5f",
   "metadata": {},
   "outputs": [
    {
     "data": {
      "text/plain": [
       "'llo World!'"
      ]
     },
     "execution_count": 9,
     "metadata": {},
     "output_type": "execute_result"
    }
   ],
   "source": [
    "s[2:] # get substr starting at idx=2"
   ]
  },
  {
   "cell_type": "code",
   "execution_count": 10,
   "id": "91850532",
   "metadata": {},
   "outputs": [
    {
     "data": {
      "text/plain": [
       "'He'"
      ]
     },
     "execution_count": 10,
     "metadata": {},
     "output_type": "execute_result"
    }
   ],
   "source": [
    "s[:2] # get the substr up to but exclusive idx=2"
   ]
  },
  {
   "cell_type": "code",
   "execution_count": 11,
   "id": "f1a4a69f",
   "metadata": {},
   "outputs": [
    {
     "data": {
      "text/plain": [
       "'llo'"
      ]
     },
     "execution_count": 11,
     "metadata": {},
     "output_type": "execute_result"
    }
   ],
   "source": [
    "s[2:5] # get the substr start at idx=2 and ends at idx=5 (exclusive)"
   ]
  },
  {
   "cell_type": "code",
   "execution_count": 12,
   "id": "c3e59a5e",
   "metadata": {},
   "outputs": [
    {
     "data": {
      "text/plain": [
       "'Hello World!'"
      ]
     },
     "execution_count": 12,
     "metadata": {},
     "output_type": "execute_result"
    }
   ],
   "source": [
    "s[::] # get the whole string, with stepsize unspecified"
   ]
  },
  {
   "cell_type": "code",
   "execution_count": 13,
   "id": "06df9cab",
   "metadata": {},
   "outputs": [
    {
     "data": {
      "text/plain": [
       "'HloWrd'"
      ]
     },
     "execution_count": 13,
     "metadata": {},
     "output_type": "execute_result"
    }
   ],
   "source": [
    "s[::2] # get the whole string with stepsize=2"
   ]
  },
  {
   "cell_type": "code",
   "execution_count": 14,
   "id": "b3d72050",
   "metadata": {},
   "outputs": [
    {
     "data": {
      "text/plain": [
       "'loW'"
      ]
     },
     "execution_count": 14,
     "metadata": {},
     "output_type": "execute_result"
    }
   ],
   "source": [
    "s[2:7:2] # get the substring idx = [2, 7) with stepsize=2. [start:stop:stepsize]"
   ]
  },
  {
   "cell_type": "code",
   "execution_count": 15,
   "id": "69efc481",
   "metadata": {},
   "outputs": [
    {
     "data": {
      "text/plain": [
       "'!dlroW olleH'"
      ]
     },
     "execution_count": 15,
     "metadata": {},
     "output_type": "execute_result"
    }
   ],
   "source": [
    "s[::-1] # reverse the string"
   ]
  },
  {
   "cell_type": "markdown",
   "id": "3859c1fc",
   "metadata": {},
   "source": [
    "### String properties and methods"
   ]
  },
  {
   "cell_type": "code",
   "execution_count": 27,
   "id": "bbf69d67",
   "metadata": {},
   "outputs": [],
   "source": [
    "name = 'Sam'"
   ]
  },
  {
   "cell_type": "code",
   "execution_count": 18,
   "id": "f211184f",
   "metadata": {},
   "outputs": [
    {
     "ename": "TypeError",
     "evalue": "'str' object does not support item assignment",
     "output_type": "error",
     "traceback": [
      "\u001b[0;31m---------------------------------------------------------------------------\u001b[0m",
      "\u001b[0;31mTypeError\u001b[0m                                 Traceback (most recent call last)",
      "\u001b[0;32m/var/folders/bn/yypl5g397pz61ngtbr4xsbrc0000gn/T/ipykernel_78033/1930518064.py\u001b[0m in \u001b[0;36m<module>\u001b[0;34m\u001b[0m\n\u001b[0;32m----> 1\u001b[0;31m \u001b[0mname\u001b[0m\u001b[0;34m[\u001b[0m\u001b[0;36m0\u001b[0m\u001b[0;34m]\u001b[0m \u001b[0;34m=\u001b[0m \u001b[0;34m'P'\u001b[0m \u001b[0;31m# TypeError due to string is immutable\u001b[0m\u001b[0;34m\u001b[0m\u001b[0;34m\u001b[0m\u001b[0m\n\u001b[0m\u001b[1;32m      2\u001b[0m \u001b[0;31m# So if want to change it, will need to create a new string.\u001b[0m\u001b[0;34m\u001b[0m\u001b[0;34m\u001b[0m\u001b[0m\n",
      "\u001b[0;31mTypeError\u001b[0m: 'str' object does not support item assignment"
     ]
    }
   ],
   "source": [
    "name[0] = 'P' # TypeError due to string is immutable\n",
    "# So if want to change it, will need to create a new string. "
   ]
  },
  {
   "cell_type": "code",
   "execution_count": 28,
   "id": "6bf02e97",
   "metadata": {},
   "outputs": [],
   "source": [
    "name2 = 'P' + name[1:] # string concatenation"
   ]
  },
  {
   "cell_type": "code",
   "execution_count": 29,
   "id": "d013c0c0",
   "metadata": {},
   "outputs": [
    {
     "data": {
      "text/plain": [
       "'Pam'"
      ]
     },
     "execution_count": 29,
     "metadata": {},
     "output_type": "execute_result"
    }
   ],
   "source": [
    "name2"
   ]
  },
  {
   "cell_type": "code",
   "execution_count": 30,
   "id": "ddecd80f",
   "metadata": {},
   "outputs": [],
   "source": [
    "name3 = name * 5 # multiplication of strings"
   ]
  },
  {
   "cell_type": "code",
   "execution_count": 31,
   "id": "3002d458",
   "metadata": {},
   "outputs": [
    {
     "data": {
      "text/plain": [
       "'SamSamSamSamSam'"
      ]
     },
     "execution_count": 31,
     "metadata": {},
     "output_type": "execute_result"
    }
   ],
   "source": [
    "name3"
   ]
  },
  {
   "cell_type": "code",
   "execution_count": 32,
   "id": "15be0504",
   "metadata": {},
   "outputs": [
    {
     "data": {
      "text/plain": [
       "'SAM'"
      ]
     },
     "execution_count": 32,
     "metadata": {},
     "output_type": "execute_result"
    }
   ],
   "source": [
    "# type name. then press tab key would show all string methods\n",
    "name.upper() # convert to upper case\n",
    "# this do not affect the name string\n",
    "# you need to assign it to save the result to a variable"
   ]
  },
  {
   "cell_type": "code",
   "execution_count": 33,
   "id": "f51df94b",
   "metadata": {},
   "outputs": [
    {
     "data": {
      "text/plain": [
       "'name'"
      ]
     },
     "execution_count": 33,
     "metadata": {},
     "output_type": "execute_result"
    }
   ],
   "source": [
    "\"NAME\".lower() # convert to lower case"
   ]
  },
  {
   "cell_type": "code",
   "execution_count": 34,
   "id": "98569e4c",
   "metadata": {},
   "outputs": [
    {
     "data": {
      "text/plain": [
       "['Hello', 'World!']"
      ]
     },
     "execution_count": 34,
     "metadata": {},
     "output_type": "execute_result"
    }
   ],
   "source": [
    "\"Hello World!\".split() # split a string by space, return a list"
   ]
  },
  {
   "cell_type": "code",
   "execution_count": 35,
   "id": "c87643cb",
   "metadata": {},
   "outputs": [
    {
     "data": {
      "text/plain": [
       "['Hell', ' W', 'rld!']"
      ]
     },
     "execution_count": 35,
     "metadata": {},
     "output_type": "execute_result"
    }
   ],
   "source": [
    "\"Hello World!\".split(\"o\") # split by specified string"
   ]
  },
  {
   "cell_type": "code",
   "execution_count": 36,
   "id": "489cff32",
   "metadata": {},
   "outputs": [
    {
     "data": {
      "text/plain": [
       "['Hell', 'World!']"
      ]
     },
     "execution_count": 36,
     "metadata": {},
     "output_type": "execute_result"
    }
   ],
   "source": [
    "\"Hello World!\".split(\"o \") # split by specified string"
   ]
  },
  {
   "cell_type": "markdown",
   "id": "900f5b1f",
   "metadata": {},
   "source": [
    "### Print formatting with strings"
   ]
  },
  {
   "cell_type": "markdown",
   "id": "a87f43ce",
   "metadata": {},
   "source": [
    "String interpolation (stick a var into a string)"
   ]
  },
  {
   "cell_type": "code",
   "execution_count": 37,
   "id": "d0b3ba86",
   "metadata": {},
   "outputs": [
    {
     "name": "stdout",
     "output_type": "stream",
     "text": [
      "This is a string INSERTED\n"
     ]
    }
   ],
   "source": [
    "print('This is a string {}'.format('INSERTED'))"
   ]
  },
  {
   "cell_type": "code",
   "execution_count": 39,
   "id": "ea613ee7",
   "metadata": {},
   "outputs": [
    {
     "name": "stdout",
     "output_type": "stream",
     "text": [
      "The round1 round2 round3\n"
     ]
    }
   ],
   "source": [
    "print('The {} {} {}'.format('round1', 'round2', 'round3'))"
   ]
  },
  {
   "cell_type": "code",
   "execution_count": 40,
   "id": "8eb70d46",
   "metadata": {},
   "outputs": [
    {
     "name": "stdout",
     "output_type": "stream",
     "text": [
      "The round3 round2 round1\n"
     ]
    }
   ],
   "source": [
    "print('The {2} {1} {0}'.format('round1', 'round2', 'round3')) # reorder"
   ]
  },
  {
   "cell_type": "code",
   "execution_count": 41,
   "id": "a7a30525",
   "metadata": {},
   "outputs": [
    {
     "name": "stdout",
     "output_type": "stream",
     "text": [
      "The round1 round1 round1\n"
     ]
    }
   ],
   "source": [
    "print('The {0} {0} {0}'.format('round1', 'round2', 'round3')) # repeat"
   ]
  },
  {
   "cell_type": "code",
   "execution_count": 43,
   "id": "71765c3f",
   "metadata": {},
   "outputs": [
    {
     "name": "stdout",
     "output_type": "stream",
     "text": [
      "The round1 round2 round3\n"
     ]
    }
   ],
   "source": [
    "print('The {r1} {r2} {r3}'.format(r1='round1', r2='round2', r3='round3')) # repeat# assign keywords"
   ]
  },
  {
   "cell_type": "code",
   "execution_count": 44,
   "id": "98bf4331",
   "metadata": {},
   "outputs": [],
   "source": [
    "result = 100/777 # floating point formatting"
   ]
  },
  {
   "cell_type": "code",
   "execution_count": 45,
   "id": "7a5868e1",
   "metadata": {},
   "outputs": [
    {
     "data": {
      "text/plain": [
       "0.1287001287001287"
      ]
     },
     "execution_count": 45,
     "metadata": {},
     "output_type": "execute_result"
    }
   ],
   "source": [
    "result"
   ]
  },
  {
   "cell_type": "code",
   "execution_count": 46,
   "id": "c05183c4",
   "metadata": {},
   "outputs": [
    {
     "name": "stdout",
     "output_type": "stream",
     "text": [
      "The result was 0.1287001287001287\n"
     ]
    }
   ],
   "source": [
    "print(\"The result was {}\".format(result))"
   ]
  },
  {
   "cell_type": "code",
   "execution_count": 47,
   "id": "5037fd86",
   "metadata": {},
   "outputs": [
    {
     "name": "stdout",
     "output_type": "stream",
     "text": [
      "The result was 0.1287001287001287\n"
     ]
    }
   ],
   "source": [
    "print(\"The result was {r}\".format(r=result))"
   ]
  },
  {
   "cell_type": "code",
   "execution_count": 48,
   "id": "26bbed6c",
   "metadata": {},
   "outputs": [
    {
     "name": "stdout",
     "output_type": "stream",
     "text": [
      "The result was 0.129\n"
     ]
    }
   ],
   "source": [
    "print(\"The result was {r:1.3f}\".format(r=result)) # {value[:width][.precision]f}"
   ]
  },
  {
   "cell_type": "code",
   "execution_count": 49,
   "id": "bd12a995",
   "metadata": {},
   "outputs": [
    {
     "name": "stdout",
     "output_type": "stream",
     "text": [
      "The result was      0.129\n"
     ]
    }
   ],
   "source": [
    "print(\"The result was {r:10.3f}\".format(r=result))"
   ]
  },
  {
   "cell_type": "code",
   "execution_count": 50,
   "id": "13fbe97b",
   "metadata": {},
   "outputs": [
    {
     "name": "stdout",
     "output_type": "stream",
     "text": [
      "The result was 0.129\n"
     ]
    }
   ],
   "source": [
    "print(\"The result was {r:0.3f}\".format(r=result))"
   ]
  },
  {
   "cell_type": "code",
   "execution_count": 55,
   "id": "6cde7107",
   "metadata": {},
   "outputs": [
    {
     "name": "stdout",
     "output_type": "stream",
     "text": [
      "The result was 0.12870\n"
     ]
    }
   ],
   "source": [
    "print(\"The result was {r:2.5f}\".format(r=result))"
   ]
  },
  {
   "cell_type": "code",
   "execution_count": 56,
   "id": "9c3fce14",
   "metadata": {},
   "outputs": [],
   "source": [
    "result = 104.12345"
   ]
  },
  {
   "cell_type": "code",
   "execution_count": 57,
   "id": "1053c4c9",
   "metadata": {},
   "outputs": [
    {
     "name": "stdout",
     "output_type": "stream",
     "text": [
      "The result was 104.12\n"
     ]
    }
   ],
   "source": [
    "print(\"The result was {r:1.2f}\".format(r=result))"
   ]
  },
  {
   "cell_type": "code",
   "execution_count": 58,
   "id": "cad2e137",
   "metadata": {},
   "outputs": [],
   "source": [
    "name = 'Jose'"
   ]
  },
  {
   "cell_type": "code",
   "execution_count": 59,
   "id": "66f0b208",
   "metadata": {},
   "outputs": [
    {
     "name": "stdout",
     "output_type": "stream",
     "text": [
      "Hello, his name is Jose\n"
     ]
    }
   ],
   "source": [
    "print(f'Hello, his name is {name}') # introduced in Python 3.6"
   ]
  },
  {
   "cell_type": "code",
   "execution_count": 60,
   "id": "be1cea7f",
   "metadata": {},
   "outputs": [],
   "source": [
    "name = \"Sam\"\n",
    "age = 3"
   ]
  },
  {
   "cell_type": "code",
   "execution_count": 61,
   "id": "37df8a45",
   "metadata": {},
   "outputs": [
    {
     "name": "stdout",
     "output_type": "stream",
     "text": [
      "Sam's age is 3\n"
     ]
    }
   ],
   "source": [
    "print(f\"{name}'s age is {age}\")"
   ]
  },
  {
   "cell_type": "markdown",
   "id": "e54d4436",
   "metadata": {},
   "source": [
    "## Lists"
   ]
  },
  {
   "cell_type": "code",
   "execution_count": 62,
   "id": "db87f422",
   "metadata": {},
   "outputs": [],
   "source": [
    "my_list = [1, 2, 3]"
   ]
  },
  {
   "cell_type": "code",
   "execution_count": 63,
   "id": "0162bf98",
   "metadata": {},
   "outputs": [],
   "source": [
    "my_list = [\"string\", 100, 32.2] # can combine datatypes in list"
   ]
  },
  {
   "cell_type": "code",
   "execution_count": 64,
   "id": "8df95ca2",
   "metadata": {},
   "outputs": [
    {
     "data": {
      "text/plain": [
       "3"
      ]
     },
     "execution_count": 64,
     "metadata": {},
     "output_type": "execute_result"
    }
   ],
   "source": [
    "len(my_list) # return length of list"
   ]
  },
  {
   "cell_type": "code",
   "execution_count": 65,
   "id": "7ffbb7bf",
   "metadata": {},
   "outputs": [],
   "source": [
    "my_list = ['one', 'two', 'three']"
   ]
  },
  {
   "cell_type": "code",
   "execution_count": 66,
   "id": "c3805f53",
   "metadata": {},
   "outputs": [
    {
     "data": {
      "text/plain": [
       "'one'"
      ]
     },
     "execution_count": 66,
     "metadata": {},
     "output_type": "execute_result"
    }
   ],
   "source": [
    "my_list[0]"
   ]
  },
  {
   "cell_type": "code",
   "execution_count": 67,
   "id": "c0f168b0",
   "metadata": {},
   "outputs": [
    {
     "data": {
      "text/plain": [
       "['two', 'three']"
      ]
     },
     "execution_count": 67,
     "metadata": {},
     "output_type": "execute_result"
    }
   ],
   "source": [
    "my_list[1:] # slicing of list works like slicing of string"
   ]
  },
  {
   "cell_type": "code",
   "execution_count": 68,
   "id": "bdb31a53",
   "metadata": {},
   "outputs": [],
   "source": [
    "another_list = ['four', 3.5]"
   ]
  },
  {
   "cell_type": "code",
   "execution_count": 69,
   "id": "017ef2b5",
   "metadata": {},
   "outputs": [],
   "source": [
    "new_list = my_list + another_list"
   ]
  },
  {
   "cell_type": "code",
   "execution_count": 70,
   "id": "49a781ea",
   "metadata": {},
   "outputs": [
    {
     "data": {
      "text/plain": [
       "['one', 'two', 'three', 'four', 3.5]"
      ]
     },
     "execution_count": 70,
     "metadata": {},
     "output_type": "execute_result"
    }
   ],
   "source": [
    "new_list"
   ]
  },
  {
   "cell_type": "code",
   "execution_count": 71,
   "id": "0006b314",
   "metadata": {},
   "outputs": [],
   "source": [
    "new_list[0] = 100 # you can mutate a list, unlike a string"
   ]
  },
  {
   "cell_type": "code",
   "execution_count": 72,
   "id": "a8996e08",
   "metadata": {},
   "outputs": [
    {
     "data": {
      "text/plain": [
       "[100, 'two', 'three', 'four', 3.5]"
      ]
     },
     "execution_count": 72,
     "metadata": {},
     "output_type": "execute_result"
    }
   ],
   "source": [
    "new_list"
   ]
  },
  {
   "cell_type": "code",
   "execution_count": 73,
   "id": "2463609f",
   "metadata": {},
   "outputs": [],
   "source": [
    "new_list.append(\"six\") # append a new element to end of list"
   ]
  },
  {
   "cell_type": "code",
   "execution_count": 74,
   "id": "b7d6ae71",
   "metadata": {},
   "outputs": [
    {
     "data": {
      "text/plain": [
       "[100, 'two', 'three', 'four', 3.5, 'six']"
      ]
     },
     "execution_count": 74,
     "metadata": {},
     "output_type": "execute_result"
    }
   ],
   "source": [
    "new_list"
   ]
  },
  {
   "cell_type": "code",
   "execution_count": 75,
   "id": "457b39d7",
   "metadata": {},
   "outputs": [
    {
     "data": {
      "text/plain": [
       "'six'"
      ]
     },
     "execution_count": 75,
     "metadata": {},
     "output_type": "execute_result"
    }
   ],
   "source": [
    "new_list.pop() # remove an elem from the end of list"
   ]
  },
  {
   "cell_type": "code",
   "execution_count": 76,
   "id": "9c71e697",
   "metadata": {},
   "outputs": [
    {
     "data": {
      "text/plain": [
       "[100, 'two', 'three', 'four', 3.5]"
      ]
     },
     "execution_count": 76,
     "metadata": {},
     "output_type": "execute_result"
    }
   ],
   "source": [
    "new_list"
   ]
  },
  {
   "cell_type": "code",
   "execution_count": 77,
   "id": "322b0a55",
   "metadata": {},
   "outputs": [],
   "source": [
    "poped_item = new_list.pop() # save the poped item"
   ]
  },
  {
   "cell_type": "code",
   "execution_count": 78,
   "id": "8ed74f35",
   "metadata": {},
   "outputs": [
    {
     "data": {
      "text/plain": [
       "3.5"
      ]
     },
     "execution_count": 78,
     "metadata": {},
     "output_type": "execute_result"
    }
   ],
   "source": [
    "poped_item"
   ]
  },
  {
   "cell_type": "code",
   "execution_count": 79,
   "id": "b519be64",
   "metadata": {},
   "outputs": [
    {
     "data": {
      "text/plain": [
       "100"
      ]
     },
     "execution_count": 79,
     "metadata": {},
     "output_type": "execute_result"
    }
   ],
   "source": [
    "new_list.pop(0) # remove an elem of specified index"
   ]
  },
  {
   "cell_type": "code",
   "execution_count": 80,
   "id": "8c663985",
   "metadata": {},
   "outputs": [
    {
     "data": {
      "text/plain": [
       "['two', 'three', 'four']"
      ]
     },
     "execution_count": 80,
     "metadata": {},
     "output_type": "execute_result"
    }
   ],
   "source": [
    "new_list"
   ]
  },
  {
   "cell_type": "code",
   "execution_count": 81,
   "id": "e45d7a44",
   "metadata": {},
   "outputs": [
    {
     "data": {
      "text/plain": [
       "'three'"
      ]
     },
     "execution_count": 81,
     "metadata": {},
     "output_type": "execute_result"
    }
   ],
   "source": [
    "new_list.pop(-2) # reverse index works for lists too"
   ]
  },
  {
   "cell_type": "code",
   "execution_count": 82,
   "id": "ac5995d5",
   "metadata": {},
   "outputs": [
    {
     "data": {
      "text/plain": [
       "['two', 'four']"
      ]
     },
     "execution_count": 82,
     "metadata": {},
     "output_type": "execute_result"
    }
   ],
   "source": [
    "new_list"
   ]
  },
  {
   "cell_type": "code",
   "execution_count": 83,
   "id": "e58ee501",
   "metadata": {},
   "outputs": [],
   "source": [
    "new_list = ['a', 'e', 'x', 'b', 'c']\n",
    "num_list = [4, 1, 8, 3]"
   ]
  },
  {
   "cell_type": "code",
   "execution_count": 84,
   "id": "52b1978f",
   "metadata": {},
   "outputs": [],
   "source": [
    "new_list.sort() # sort the list in-place, so return nothing\n",
    "# sorted(new_list) # this returns the sorted list"
   ]
  },
  {
   "cell_type": "code",
   "execution_count": 85,
   "id": "3f916888",
   "metadata": {},
   "outputs": [
    {
     "data": {
      "text/plain": [
       "['a', 'b', 'c', 'e', 'x']"
      ]
     },
     "execution_count": 85,
     "metadata": {},
     "output_type": "execute_result"
    }
   ],
   "source": [
    "new_list"
   ]
  },
  {
   "cell_type": "code",
   "execution_count": 86,
   "id": "4eafef67",
   "metadata": {},
   "outputs": [],
   "source": [
    "num_list.sort()"
   ]
  },
  {
   "cell_type": "code",
   "execution_count": 87,
   "id": "d2f62e7d",
   "metadata": {},
   "outputs": [
    {
     "data": {
      "text/plain": [
       "[1, 3, 4, 8]"
      ]
     },
     "execution_count": 87,
     "metadata": {},
     "output_type": "execute_result"
    }
   ],
   "source": [
    "num_list"
   ]
  },
  {
   "cell_type": "code",
   "execution_count": 90,
   "id": "f5ab9332",
   "metadata": {},
   "outputs": [],
   "source": [
    "num_list = [23, 535, 213, 4, 6]"
   ]
  },
  {
   "cell_type": "code",
   "execution_count": 91,
   "id": "276b2ae5",
   "metadata": {},
   "outputs": [],
   "source": [
    "num_list.reverse() # reverse the list in-place"
   ]
  },
  {
   "cell_type": "code",
   "execution_count": 92,
   "id": "bf981fea",
   "metadata": {},
   "outputs": [
    {
     "data": {
      "text/plain": [
       "[6, 4, 213, 535, 23]"
      ]
     },
     "execution_count": 92,
     "metadata": {},
     "output_type": "execute_result"
    }
   ],
   "source": [
    "num_list"
   ]
  },
  {
   "cell_type": "markdown",
   "id": "6c2bb90e",
   "metadata": {},
   "source": [
    "## Dictionaries"
   ]
  },
  {
   "cell_type": "code",
   "execution_count": 93,
   "id": "e47f5f3e",
   "metadata": {},
   "outputs": [],
   "source": [
    "my_dict = {'key1':'value1', 'key2':'value2'} # initialize a dict"
   ]
  },
  {
   "cell_type": "code",
   "execution_count": 94,
   "id": "31eeba08",
   "metadata": {},
   "outputs": [
    {
     "data": {
      "text/plain": [
       "{'key1': 'value1', 'key2': 'value2'}"
      ]
     },
     "execution_count": 94,
     "metadata": {},
     "output_type": "execute_result"
    }
   ],
   "source": [
    "my_dict"
   ]
  },
  {
   "cell_type": "code",
   "execution_count": 95,
   "id": "359c7e58",
   "metadata": {},
   "outputs": [
    {
     "data": {
      "text/plain": [
       "'value2'"
      ]
     },
     "execution_count": 95,
     "metadata": {},
     "output_type": "execute_result"
    }
   ],
   "source": [
    "my_dict['key2'] # retrive a value based on its key"
   ]
  },
  {
   "cell_type": "code",
   "execution_count": 96,
   "id": "59f78e39",
   "metadata": {},
   "outputs": [],
   "source": [
    "prices_lookup = {'apple':2.99, 'oranges':1.99, 'milk':5.80}"
   ]
  },
  {
   "cell_type": "code",
   "execution_count": 97,
   "id": "e2d28a64",
   "metadata": {},
   "outputs": [
    {
     "data": {
      "text/plain": [
       "2.99"
      ]
     },
     "execution_count": 97,
     "metadata": {},
     "output_type": "execute_result"
    }
   ],
   "source": [
    "prices_lookup['apple']"
   ]
  },
  {
   "cell_type": "code",
   "execution_count": 99,
   "id": "c02abca5",
   "metadata": {},
   "outputs": [],
   "source": [
    "prices_lookup = {'apple':2.99, 100:'test', 'milk':5.80} # no restriction on data types"
   ]
  },
  {
   "cell_type": "code",
   "execution_count": 100,
   "id": "b43c1474",
   "metadata": {},
   "outputs": [
    {
     "data": {
      "text/plain": [
       "'test'"
      ]
     },
     "execution_count": 100,
     "metadata": {},
     "output_type": "execute_result"
    }
   ],
   "source": [
    "prices_lookup[100]"
   ]
  },
  {
   "cell_type": "code",
   "execution_count": 101,
   "id": "f136c726",
   "metadata": {},
   "outputs": [],
   "source": [
    "d = {'k1':123, 'k2':[0, 1, 2], 'k3':{'nestedKey':20}} # no restriction on data types, even nested dict or lists"
   ]
  },
  {
   "cell_type": "code",
   "execution_count": 102,
   "id": "643df0de",
   "metadata": {},
   "outputs": [
    {
     "data": {
      "text/plain": [
       "20"
      ]
     },
     "execution_count": 102,
     "metadata": {},
     "output_type": "execute_result"
    }
   ],
   "source": [
    "d['k3']['nestedKey']"
   ]
  },
  {
   "cell_type": "code",
   "execution_count": 103,
   "id": "db94c750",
   "metadata": {},
   "outputs": [
    {
     "data": {
      "text/plain": [
       "1"
      ]
     },
     "execution_count": 103,
     "metadata": {},
     "output_type": "execute_result"
    }
   ],
   "source": [
    "d['k2'][1]"
   ]
  },
  {
   "cell_type": "code",
   "execution_count": 105,
   "id": "97bcf04b",
   "metadata": {},
   "outputs": [],
   "source": [
    "d['k4'] = 100 # add key-value pair to dictionary"
   ]
  },
  {
   "cell_type": "code",
   "execution_count": 106,
   "id": "c9c9f29c",
   "metadata": {},
   "outputs": [
    {
     "data": {
      "text/plain": [
       "{'k1': 123, 'k2': [0, 1, 2], 'k3': {'nestedKey': 20}, 'k4': 100}"
      ]
     },
     "execution_count": 106,
     "metadata": {},
     "output_type": "execute_result"
    }
   ],
   "source": [
    "d"
   ]
  },
  {
   "cell_type": "code",
   "execution_count": 107,
   "id": "0795e85a",
   "metadata": {},
   "outputs": [],
   "source": [
    "d['k2'] = 'Hi' # update value of a key in a dict"
   ]
  },
  {
   "cell_type": "code",
   "execution_count": 108,
   "id": "6ef1adf3",
   "metadata": {},
   "outputs": [
    {
     "data": {
      "text/plain": [
       "{'k1': 123, 'k2': 'Hi', 'k3': {'nestedKey': 20}, 'k4': 100}"
      ]
     },
     "execution_count": 108,
     "metadata": {},
     "output_type": "execute_result"
    }
   ],
   "source": [
    "d"
   ]
  },
  {
   "cell_type": "code",
   "execution_count": 109,
   "id": "bb574e1f",
   "metadata": {},
   "outputs": [
    {
     "data": {
      "text/plain": [
       "dict_keys(['k1', 'k2', 'k3', 'k4'])"
      ]
     },
     "execution_count": 109,
     "metadata": {},
     "output_type": "execute_result"
    }
   ],
   "source": [
    "d.keys() # show all keys of the dict"
   ]
  },
  {
   "cell_type": "code",
   "execution_count": 110,
   "id": "7958c451",
   "metadata": {},
   "outputs": [
    {
     "data": {
      "text/plain": [
       "dict_values([123, 'Hi', {'nestedKey': 20}, 100])"
      ]
     },
     "execution_count": 110,
     "metadata": {},
     "output_type": "execute_result"
    }
   ],
   "source": [
    "d.values() # show all values of the dict"
   ]
  },
  {
   "cell_type": "code",
   "execution_count": 111,
   "id": "e67a22e0",
   "metadata": {},
   "outputs": [
    {
     "data": {
      "text/plain": [
       "dict_items([('k1', 123), ('k2', 'Hi'), ('k3', {'nestedKey': 20}), ('k4', 100)])"
      ]
     },
     "execution_count": 111,
     "metadata": {},
     "output_type": "execute_result"
    }
   ],
   "source": [
    "d.items() # show all pairs in the form of tuples"
   ]
  },
  {
   "cell_type": "markdown",
   "id": "ced56355",
   "metadata": {},
   "source": [
    "## Tuples"
   ]
  },
  {
   "cell_type": "code",
   "execution_count": 112,
   "id": "35f82516",
   "metadata": {},
   "outputs": [],
   "source": [
    "t = (1, 2, 3)"
   ]
  },
  {
   "cell_type": "code",
   "execution_count": 113,
   "id": "b61ada3f",
   "metadata": {},
   "outputs": [],
   "source": [
    "mylist = [1, 2, 3]"
   ]
  },
  {
   "cell_type": "code",
   "execution_count": 114,
   "id": "6a5a9335",
   "metadata": {},
   "outputs": [
    {
     "data": {
      "text/plain": [
       "tuple"
      ]
     },
     "execution_count": 114,
     "metadata": {},
     "output_type": "execute_result"
    }
   ],
   "source": [
    "type(t)"
   ]
  },
  {
   "cell_type": "code",
   "execution_count": 115,
   "id": "60042deb",
   "metadata": {},
   "outputs": [
    {
     "data": {
      "text/plain": [
       "list"
      ]
     },
     "execution_count": 115,
     "metadata": {},
     "output_type": "execute_result"
    }
   ],
   "source": [
    "type(mylist)"
   ]
  },
  {
   "cell_type": "code",
   "execution_count": 116,
   "id": "ec7801f9",
   "metadata": {},
   "outputs": [
    {
     "data": {
      "text/plain": [
       "3"
      ]
     },
     "execution_count": 116,
     "metadata": {},
     "output_type": "execute_result"
    }
   ],
   "source": [
    "len(t) # return length of tuple"
   ]
  },
  {
   "cell_type": "code",
   "execution_count": 117,
   "id": "d526ac32",
   "metadata": {},
   "outputs": [],
   "source": [
    "t = ('One', 2, [1, 2, 3]) # no restriction to data types"
   ]
  },
  {
   "cell_type": "code",
   "execution_count": 118,
   "id": "b14f0eda",
   "metadata": {},
   "outputs": [
    {
     "data": {
      "text/plain": [
       "2"
      ]
     },
     "execution_count": 118,
     "metadata": {},
     "output_type": "execute_result"
    }
   ],
   "source": [
    "t[1] # index a tuple"
   ]
  },
  {
   "cell_type": "code",
   "execution_count": 119,
   "id": "95000737",
   "metadata": {},
   "outputs": [
    {
     "data": {
      "text/plain": [
       "[1, 2, 3]"
      ]
     },
     "execution_count": 119,
     "metadata": {},
     "output_type": "execute_result"
    }
   ],
   "source": [
    "t[-1] # can also use reverse index"
   ]
  },
  {
   "cell_type": "code",
   "execution_count": 120,
   "id": "f67ac11f",
   "metadata": {},
   "outputs": [],
   "source": [
    "t = ('a', 'a', 'b', 'z')"
   ]
  },
  {
   "cell_type": "code",
   "execution_count": 121,
   "id": "7531f8f7",
   "metadata": {},
   "outputs": [
    {
     "data": {
      "text/plain": [
       "2"
      ]
     },
     "execution_count": 121,
     "metadata": {},
     "output_type": "execute_result"
    }
   ],
   "source": [
    "t.count('a') # return how many times 'a' exists in the tuple"
   ]
  },
  {
   "cell_type": "code",
   "execution_count": 122,
   "id": "44ed2820",
   "metadata": {},
   "outputs": [
    {
     "data": {
      "text/plain": [
       "0"
      ]
     },
     "execution_count": 122,
     "metadata": {},
     "output_type": "execute_result"
    }
   ],
   "source": [
    "t.index('a') # return the index where 'a' appears for the first time in tuple"
   ]
  },
  {
   "cell_type": "code",
   "execution_count": 123,
   "id": "7aa41938",
   "metadata": {},
   "outputs": [
    {
     "ename": "ValueError",
     "evalue": "tuple.index(x): x not in tuple",
     "output_type": "error",
     "traceback": [
      "\u001b[0;31m---------------------------------------------------------------------------\u001b[0m",
      "\u001b[0;31mValueError\u001b[0m                                Traceback (most recent call last)",
      "\u001b[0;32m/var/folders/bn/yypl5g397pz61ngtbr4xsbrc0000gn/T/ipykernel_78033/3635172981.py\u001b[0m in \u001b[0;36m<module>\u001b[0;34m\u001b[0m\n\u001b[0;32m----> 1\u001b[0;31m \u001b[0mt\u001b[0m\u001b[0;34m.\u001b[0m\u001b[0mindex\u001b[0m\u001b[0;34m(\u001b[0m\u001b[0;34m'hi'\u001b[0m\u001b[0;34m)\u001b[0m\u001b[0;34m\u001b[0m\u001b[0;34m\u001b[0m\u001b[0m\n\u001b[0m",
      "\u001b[0;31mValueError\u001b[0m: tuple.index(x): x not in tuple"
     ]
    }
   ],
   "source": [
    "t.index('hi') # will return error the value we look for does not exist"
   ]
  },
  {
   "cell_type": "code",
   "execution_count": 124,
   "id": "6044e67f",
   "metadata": {},
   "outputs": [],
   "source": [
    "mylist[0] = 'New'"
   ]
  },
  {
   "cell_type": "code",
   "execution_count": 125,
   "id": "2835444a",
   "metadata": {},
   "outputs": [
    {
     "data": {
      "text/plain": [
       "['New', 2, 3]"
      ]
     },
     "execution_count": 125,
     "metadata": {},
     "output_type": "execute_result"
    }
   ],
   "source": [
    "mylist"
   ]
  },
  {
   "cell_type": "code",
   "execution_count": 126,
   "id": "cc135e53",
   "metadata": {},
   "outputs": [
    {
     "ename": "TypeError",
     "evalue": "'tuple' object does not support item assignment",
     "output_type": "error",
     "traceback": [
      "\u001b[0;31m---------------------------------------------------------------------------\u001b[0m",
      "\u001b[0;31mTypeError\u001b[0m                                 Traceback (most recent call last)",
      "\u001b[0;32m/var/folders/bn/yypl5g397pz61ngtbr4xsbrc0000gn/T/ipykernel_78033/2790387455.py\u001b[0m in \u001b[0;36m<module>\u001b[0;34m\u001b[0m\n\u001b[0;32m----> 1\u001b[0;31m \u001b[0mt\u001b[0m\u001b[0;34m[\u001b[0m\u001b[0;36m0\u001b[0m\u001b[0;34m]\u001b[0m \u001b[0;34m=\u001b[0m \u001b[0;34m'New'\u001b[0m\u001b[0;34m\u001b[0m\u001b[0;34m\u001b[0m\u001b[0m\n\u001b[0m",
      "\u001b[0;31mTypeError\u001b[0m: 'tuple' object does not support item assignment"
     ]
    }
   ],
   "source": [
    "t[0] = 'New' # expect an error, because of immutability"
   ]
  },
  {
   "cell_type": "markdown",
   "id": "11e9dfaf",
   "metadata": {},
   "source": [
    "## Set"
   ]
  },
  {
   "cell_type": "code",
   "execution_count": 127,
   "id": "a443692b",
   "metadata": {},
   "outputs": [],
   "source": [
    "myset = set() # initialize a set"
   ]
  },
  {
   "cell_type": "code",
   "execution_count": 128,
   "id": "fd6216d4",
   "metadata": {},
   "outputs": [],
   "source": [
    "myset.add(1) # add an element to this set"
   ]
  },
  {
   "cell_type": "code",
   "execution_count": 129,
   "id": "4b9b8ac8",
   "metadata": {},
   "outputs": [
    {
     "data": {
      "text/plain": [
       "{1}"
      ]
     },
     "execution_count": 129,
     "metadata": {},
     "output_type": "execute_result"
    }
   ],
   "source": [
    "myset"
   ]
  },
  {
   "cell_type": "code",
   "execution_count": 130,
   "id": "c561012c",
   "metadata": {},
   "outputs": [],
   "source": [
    "myset.add('Hi')"
   ]
  },
  {
   "cell_type": "code",
   "execution_count": 131,
   "id": "e4533697",
   "metadata": {},
   "outputs": [
    {
     "data": {
      "text/plain": [
       "{1, 'Hi'}"
      ]
     },
     "execution_count": 131,
     "metadata": {},
     "output_type": "execute_result"
    }
   ],
   "source": [
    "myset"
   ]
  },
  {
   "cell_type": "code",
   "execution_count": 133,
   "id": "74842c73",
   "metadata": {},
   "outputs": [],
   "source": [
    "myset.add(1) # re adding existing elem will not cause err, will not dup either. "
   ]
  },
  {
   "cell_type": "code",
   "execution_count": 134,
   "id": "7ae5745d",
   "metadata": {},
   "outputs": [
    {
     "data": {
      "text/plain": [
       "{1, 'Hi'}"
      ]
     },
     "execution_count": 134,
     "metadata": {},
     "output_type": "execute_result"
    }
   ],
   "source": [
    "myset"
   ]
  },
  {
   "cell_type": "code",
   "execution_count": 137,
   "id": "a6e8e22d",
   "metadata": {},
   "outputs": [],
   "source": [
    "mylist = [5, 'Hello', 1, 1, 1, 1, 1, 2, 2, 3, 4, 4, 4]"
   ]
  },
  {
   "cell_type": "code",
   "execution_count": 138,
   "id": "472fcc3b",
   "metadata": {},
   "outputs": [],
   "source": [
    "myset = set(mylist) # cast a list to a set, could de-dup"
   ]
  },
  {
   "cell_type": "code",
   "execution_count": 139,
   "id": "d8449d84",
   "metadata": {},
   "outputs": [
    {
     "data": {
      "text/plain": [
       "{1, 2, 3, 4, 5, 'Hello'}"
      ]
     },
     "execution_count": 139,
     "metadata": {},
     "output_type": "execute_result"
    }
   ],
   "source": [
    "myset"
   ]
  },
  {
   "cell_type": "markdown",
   "id": "57a1bdda",
   "metadata": {},
   "source": [
    "## Booleans"
   ]
  },
  {
   "cell_type": "code",
   "execution_count": 140,
   "id": "176c92d0",
   "metadata": {},
   "outputs": [
    {
     "data": {
      "text/plain": [
       "True"
      ]
     },
     "execution_count": 140,
     "metadata": {},
     "output_type": "execute_result"
    }
   ],
   "source": [
    "True"
   ]
  },
  {
   "cell_type": "code",
   "execution_count": 141,
   "id": "356f3335",
   "metadata": {},
   "outputs": [
    {
     "ename": "NameError",
     "evalue": "name 'true' is not defined",
     "output_type": "error",
     "traceback": [
      "\u001b[0;31m---------------------------------------------------------------------------\u001b[0m",
      "\u001b[0;31mNameError\u001b[0m                                 Traceback (most recent call last)",
      "\u001b[0;32m/var/folders/bn/yypl5g397pz61ngtbr4xsbrc0000gn/T/ipykernel_78033/2100268511.py\u001b[0m in \u001b[0;36m<module>\u001b[0;34m\u001b[0m\n\u001b[0;32m----> 1\u001b[0;31m \u001b[0mtrue\u001b[0m \u001b[0;31m# lowercase is not accepted\u001b[0m\u001b[0;34m\u001b[0m\u001b[0;34m\u001b[0m\u001b[0m\n\u001b[0m",
      "\u001b[0;31mNameError\u001b[0m: name 'true' is not defined"
     ]
    }
   ],
   "source": [
    "true # lowercase is not accepted"
   ]
  },
  {
   "cell_type": "code",
   "execution_count": 142,
   "id": "56733536",
   "metadata": {},
   "outputs": [
    {
     "data": {
      "text/plain": [
       "bool"
      ]
     },
     "execution_count": 142,
     "metadata": {},
     "output_type": "execute_result"
    }
   ],
   "source": [
    "type(False)"
   ]
  },
  {
   "cell_type": "code",
   "execution_count": 143,
   "id": "dd64b16d",
   "metadata": {},
   "outputs": [
    {
     "data": {
      "text/plain": [
       "False"
      ]
     },
     "execution_count": 143,
     "metadata": {},
     "output_type": "execute_result"
    }
   ],
   "source": [
    "1 > 2 # comparison operators returns a boolean"
   ]
  },
  {
   "cell_type": "code",
   "execution_count": 144,
   "id": "6c45959a",
   "metadata": {},
   "outputs": [
    {
     "data": {
      "text/plain": [
       "True"
      ]
     },
     "execution_count": 144,
     "metadata": {},
     "output_type": "execute_result"
    }
   ],
   "source": [
    "1 == 1"
   ]
  },
  {
   "cell_type": "code",
   "execution_count": 145,
   "id": "cc76c94c",
   "metadata": {},
   "outputs": [],
   "source": [
    "b = None"
   ]
  },
  {
   "cell_type": "code",
   "execution_count": 146,
   "id": "7e15179d",
   "metadata": {},
   "outputs": [],
   "source": [
    "b"
   ]
  },
  {
   "cell_type": "markdown",
   "id": "83ef78b6",
   "metadata": {},
   "source": [
    "## I/O with basic files in Python"
   ]
  },
  {
   "cell_type": "code",
   "execution_count": 147,
   "id": "cbf9fb5c",
   "metadata": {},
   "outputs": [
    {
     "name": "stdout",
     "output_type": "stream",
     "text": [
      "Writing myfile.txt\n"
     ]
    }
   ],
   "source": [
    "%%writefile myfile.txt\n",
    "Hello this is a text file\n",
    "this is the 2nd line\n",
    "this is the 3rt line \n",
    "# this way of creating a new file only works in jupiter notebook"
   ]
  },
  {
   "cell_type": "code",
   "execution_count": 148,
   "id": "17626afb",
   "metadata": {},
   "outputs": [],
   "source": [
    "myfile = open('myfile.txt') # if file not exist, will get error"
   ]
  },
  {
   "cell_type": "code",
   "execution_count": 149,
   "id": "ad0eba99",
   "metadata": {},
   "outputs": [
    {
     "data": {
      "text/plain": [
       "'/Users/lisa/Desktop/python/my-notebooks'"
      ]
     },
     "execution_count": 149,
     "metadata": {},
     "output_type": "execute_result"
    }
   ],
   "source": [
    "pwd ## print working directory in jupiter notebook"
   ]
  },
  {
   "cell_type": "code",
   "execution_count": 150,
   "id": "8a9c6dcb",
   "metadata": {},
   "outputs": [
    {
     "data": {
      "text/plain": [
       "'Hello this is a text file\\nthis is the 2nd line\\nthis is the 3rt line\\n'"
      ]
     },
     "execution_count": 150,
     "metadata": {},
     "output_type": "execute_result"
    }
   ],
   "source": [
    "myfile.read() # return a string of everything in the text file"
   ]
  },
  {
   "cell_type": "code",
   "execution_count": 151,
   "id": "bcfb1f1b",
   "metadata": {},
   "outputs": [
    {
     "data": {
      "text/plain": [
       "''"
      ]
     },
     "execution_count": 151,
     "metadata": {},
     "output_type": "execute_result"
    }
   ],
   "source": [
    "myfile.read() # return nothing because cursor is at the end of the file"
   ]
  },
  {
   "cell_type": "code",
   "execution_count": 152,
   "id": "a6db6359",
   "metadata": {},
   "outputs": [
    {
     "data": {
      "text/plain": [
       "0"
      ]
     },
     "execution_count": 152,
     "metadata": {},
     "output_type": "execute_result"
    }
   ],
   "source": [
    "myfile.seek(0) # reset the cursor"
   ]
  },
  {
   "cell_type": "code",
   "execution_count": 153,
   "id": "f20b2723",
   "metadata": {},
   "outputs": [
    {
     "data": {
      "text/plain": [
       "'Hello this is a text file\\nthis is the 2nd line\\nthis is the 3rt line\\n'"
      ]
     },
     "execution_count": 153,
     "metadata": {},
     "output_type": "execute_result"
    }
   ],
   "source": [
    "myfile.read()"
   ]
  },
  {
   "cell_type": "code",
   "execution_count": 154,
   "id": "e5a94d2d",
   "metadata": {},
   "outputs": [
    {
     "data": {
      "text/plain": [
       "0"
      ]
     },
     "execution_count": 154,
     "metadata": {},
     "output_type": "execute_result"
    }
   ],
   "source": [
    "myfile.seek(0)"
   ]
  },
  {
   "cell_type": "code",
   "execution_count": 155,
   "id": "5a9582db",
   "metadata": {},
   "outputs": [
    {
     "data": {
      "text/plain": [
       "['Hello this is a text file\\n',\n",
       " 'this is the 2nd line\\n',\n",
       " 'this is the 3rt line\\n']"
      ]
     },
     "execution_count": 155,
     "metadata": {},
     "output_type": "execute_result"
    }
   ],
   "source": [
    "myfile.readlines() # return a list with each line as a string"
   ]
  },
  {
   "cell_type": "code",
   "execution_count": 156,
   "id": "5a705e64",
   "metadata": {},
   "outputs": [],
   "source": [
    "myfile.close() # close the file"
   ]
  },
  {
   "cell_type": "code",
   "execution_count": 157,
   "id": "524bb569",
   "metadata": {},
   "outputs": [],
   "source": [
    "with open('myfile.txt') as f:\n",
    "    contents = f.read()\n",
    "## best practice, so you don't need to close this file by yourself"
   ]
  },
  {
   "cell_type": "code",
   "execution_count": 158,
   "id": "4ce01035",
   "metadata": {},
   "outputs": [
    {
     "data": {
      "text/plain": [
       "'Hello this is a text file\\nthis is the 2nd line\\nthis is the 3rt line\\n'"
      ]
     },
     "execution_count": 158,
     "metadata": {},
     "output_type": "execute_result"
    }
   ],
   "source": [
    "contents"
   ]
  },
  {
   "cell_type": "code",
   "execution_count": 159,
   "id": "99505707",
   "metadata": {},
   "outputs": [],
   "source": [
    "with open('myfile.txt', mode = 'r') as f:\n",
    "    contents = f.read()\n",
    "# open function has different modes, default is r (read only)\n",
    "# could also be: \n",
    "# w (write only, overwrite existing files or create new), \n",
    "# a (append only), \n",
    "# r+ (read and write), \n",
    "# w+ (write and read, overwrites existing file or create new)"
   ]
  },
  {
   "cell_type": "code",
   "execution_count": 160,
   "id": "43423a17",
   "metadata": {},
   "outputs": [],
   "source": [
    "with open('myfile.txt', mode = 'a') as f:\n",
    "    f.write('this is the 4th line') # add a new line"
   ]
  },
  {
   "cell_type": "code",
   "execution_count": 162,
   "id": "513be6ac",
   "metadata": {},
   "outputs": [
    {
     "name": "stdout",
     "output_type": "stream",
     "text": [
      "Hello this is a text file\n",
      "this is the 2nd line\n",
      "this is the 3rt line\n",
      "this is the 4th line\n"
     ]
    }
   ],
   "source": [
    "with open('myfile.txt', mode = 'r') as f:\n",
    "    print(f.read())"
   ]
  },
  {
   "cell_type": "code",
   "execution_count": 163,
   "id": "6e35b588",
   "metadata": {},
   "outputs": [],
   "source": [
    "with open('newfile.txt', mode = 'w') as f:\n",
    "    f.write(\"This is a new file\\nLine2\") # create a new file and write to it"
   ]
  },
  {
   "cell_type": "code",
   "execution_count": 164,
   "id": "db363afd",
   "metadata": {},
   "outputs": [
    {
     "name": "stdout",
     "output_type": "stream",
     "text": [
      "This is a new file\n",
      "Line2\n"
     ]
    }
   ],
   "source": [
    "with open('newfile.txt', mode = 'r') as f:\n",
    "    print(f.read())"
   ]
  },
  {
   "cell_type": "code",
   "execution_count": null,
   "id": "ea343a20",
   "metadata": {},
   "outputs": [],
   "source": []
  }
 ],
 "metadata": {
  "kernelspec": {
   "display_name": "Python 3 (ipykernel)",
   "language": "python",
   "name": "python3"
  },
  "language_info": {
   "codemirror_mode": {
    "name": "ipython",
    "version": 3
   },
   "file_extension": ".py",
   "mimetype": "text/x-python",
   "name": "python",
   "nbconvert_exporter": "python",
   "pygments_lexer": "ipython3",
   "version": "3.9.13"
  }
 },
 "nbformat": 4,
 "nbformat_minor": 5
}
