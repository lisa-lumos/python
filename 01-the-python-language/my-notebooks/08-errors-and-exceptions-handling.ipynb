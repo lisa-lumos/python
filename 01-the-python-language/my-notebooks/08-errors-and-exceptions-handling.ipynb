{
 "cells": [
  {
   "cell_type": "code",
   "execution_count": 1,
   "metadata": {},
   "outputs": [],
   "source": [
    "def add(n1, n2):\n",
    "    print (n1 + n2)"
   ]
  },
  {
   "cell_type": "code",
   "execution_count": 2,
   "metadata": {},
   "outputs": [
    {
     "name": "stdout",
     "output_type": "stream",
     "text": [
      "3\n"
     ]
    }
   ],
   "source": [
    "add(1, 2)"
   ]
  },
  {
   "cell_type": "code",
   "execution_count": 3,
   "metadata": {},
   "outputs": [],
   "source": [
    "num1 = 1"
   ]
  },
  {
   "cell_type": "code",
   "execution_count": 4,
   "metadata": {},
   "outputs": [],
   "source": [
    "num2 = input(\"Please provide a number: \") # give 2 in the blank, hit enter"
   ]
  },
  {
   "cell_type": "code",
   "execution_count": 5,
   "metadata": {},
   "outputs": [
    {
     "ename": "TypeError",
     "evalue": "unsupported operand type(s) for +: 'int' and 'str'",
     "output_type": "error",
     "traceback": [
      "\u001b[0;31m---------------------------------------------------------------------------\u001b[0m",
      "\u001b[0;31mTypeError\u001b[0m                                 Traceback (most recent call last)",
      "Cell \u001b[0;32mIn[5], line 1\u001b[0m\n\u001b[0;32m----> 1\u001b[0m add(num1, num2)\n",
      "Cell \u001b[0;32mIn[1], line 2\u001b[0m, in \u001b[0;36madd\u001b[0;34m(n1, n2)\u001b[0m\n\u001b[1;32m      1\u001b[0m \u001b[39mdef\u001b[39;00m \u001b[39madd\u001b[39m(n1, n2):\n\u001b[0;32m----> 2\u001b[0m     \u001b[39mprint\u001b[39m (n1 \u001b[39m+\u001b[39;49m n2)\n",
      "\u001b[0;31mTypeError\u001b[0m: unsupported operand type(s) for +: 'int' and 'str'"
     ]
    }
   ],
   "source": [
    "add(num1, num2) # will return an error because num2 is a string\n",
    "print('something happened') # this row will not be executed"
   ]
  },
  {
   "cell_type": "code",
   "execution_count": 7,
   "metadata": {},
   "outputs": [
    {
     "name": "stdout",
     "output_type": "stream",
     "text": [
      "Error adding two numbers!\n"
     ]
    }
   ],
   "source": [
    "try: \n",
    "    add(num1, num2)\n",
    "except:\n",
    "    print('Error adding two numbers!')"
   ]
  },
  {
   "cell_type": "code",
   "execution_count": 9,
   "metadata": {},
   "outputs": [
    {
     "name": "stdout",
     "output_type": "stream",
     "text": [
      "Error adding two numbers!\n",
      "I run anyway!\n"
     ]
    }
   ],
   "source": [
    "try: \n",
    "    add(num1, num2)\n",
    "except: # runs if try block has error\n",
    "    print('Error adding two numbers!')\n",
    "else: # runs if try block had no issue\n",
    "    print(\"Add went well!\")\n",
    "finally:\n",
    "    print(\"I run anyway!\")"
   ]
  },
  {
   "cell_type": "code",
   "execution_count": 10,
   "metadata": {},
   "outputs": [
    {
     "name": "stdout",
     "output_type": "stream",
     "text": [
      "I always run!\n"
     ]
    }
   ],
   "source": [
    "try: \n",
    "    f = open('testfile.txt', 'w') # write mode\n",
    "    f.write(\"Write a test line\")\n",
    "except TypeError:\n",
    "    print(\"There was a type error! \")\n",
    "except OSError:\n",
    "    print(\"You have an OS Error! \")\n",
    "finally:\n",
    "    print('I always run!')"
   ]
  },
  {
   "cell_type": "code",
   "execution_count": 12,
   "metadata": {},
   "outputs": [
    {
     "name": "stdout",
     "output_type": "stream",
     "text": [
      "You have an OS Error! \n",
      "I always run!\n"
     ]
    }
   ],
   "source": [
    "try: \n",
    "    f = open('testfile.txt', 'r') # read mode\n",
    "    f.write(\"Write a test line\")\n",
    "except TypeError:\n",
    "    print(\"There was a type error! \")\n",
    "except OSError:\n",
    "    print(\"You have an OS Error! \")\n",
    "except: # catch anything else\n",
    "    print(\"All other exceptions! \")\n",
    "finally:\n",
    "    print('I always run!')"
   ]
  },
  {
   "cell_type": "code",
   "execution_count": 13,
   "metadata": {},
   "outputs": [],
   "source": [
    "def ask_for_int():\n",
    "    try: \n",
    "        result = int(input('Please provide a number: '))\n",
    "    except:\n",
    "        print(\"That is not a number. \")\n",
    "    finally: \n",
    "        print(\"End of the block. \")"
   ]
  },
  {
   "cell_type": "code",
   "execution_count": 14,
   "metadata": {},
   "outputs": [
    {
     "name": "stdout",
     "output_type": "stream",
     "text": [
      "End of the block. \n"
     ]
    }
   ],
   "source": [
    "ask_for_int() # provide 20 as input"
   ]
  },
  {
   "cell_type": "code",
   "execution_count": 15,
   "metadata": {},
   "outputs": [
    {
     "name": "stdout",
     "output_type": "stream",
     "text": [
      "That is not a number. \n",
      "End of the block. \n"
     ]
    }
   ],
   "source": [
    "ask_for_int() # provide a as input"
   ]
  },
  {
   "cell_type": "code",
   "execution_count": 16,
   "metadata": {},
   "outputs": [],
   "source": [
    "def ask_for_int():\n",
    "    while True:\n",
    "        try: \n",
    "            result = int(input('Please provide a number: '))\n",
    "        except:\n",
    "            print(\"That is not a number. \")\n",
    "            continue\n",
    "        else: \n",
    "            print('Yes, thank you')\n",
    "            break\n",
    "        finally:\n",
    "            print('End of one loop')"
   ]
  },
  {
   "cell_type": "code",
   "execution_count": 17,
   "metadata": {},
   "outputs": [
    {
     "name": "stdout",
     "output_type": "stream",
     "text": [
      "Yes, thank you\n",
      "End of one loop\n"
     ]
    }
   ],
   "source": [
    "ask_for_int() # provide 20"
   ]
  },
  {
   "cell_type": "code",
   "execution_count": 18,
   "metadata": {},
   "outputs": [
    {
     "name": "stdout",
     "output_type": "stream",
     "text": [
      "That is not a number. \n",
      "End of one loop\n",
      "Yes, thank you\n",
      "End of one loop\n"
     ]
    }
   ],
   "source": [
    "ask_for_int() # provide a, then 2"
   ]
  },
  {
   "cell_type": "code",
   "execution_count": 27,
   "metadata": {},
   "outputs": [],
   "source": [
    "## Unit testing"
   ]
  }
 ],
 "metadata": {
  "kernelspec": {
   "display_name": "Python 3",
   "language": "python",
   "name": "python3"
  },
  "language_info": {
   "codemirror_mode": {
    "name": "ipython",
    "version": 3
   },
   "file_extension": ".py",
   "mimetype": "text/x-python",
   "name": "python",
   "nbconvert_exporter": "python",
   "pygments_lexer": "ipython3",
   "version": "3.11.1"
  },
  "orig_nbformat": 4,
  "vscode": {
   "interpreter": {
    "hash": "5c7b89af1651d0b8571dde13640ecdccf7d5a6204171d6ab33e7c296e100e08a"
   }
  }
 },
 "nbformat": 4,
 "nbformat_minor": 2
}
