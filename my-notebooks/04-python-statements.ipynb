{
 "cells": [
  {
   "attachments": {},
   "cell_type": "markdown",
   "id": "e26199fe",
   "metadata": {},
   "source": [
    "## if elif and else"
   ]
  },
  {
   "cell_type": "code",
   "execution_count": 4,
   "metadata": {},
   "outputs": [
    {
     "name": "stdout",
     "output_type": "stream",
     "text": [
      "Dog not hungry. \n"
     ]
    }
   ],
   "source": [
    "hungry = False\n",
    "if hungry: \n",
    "  print('Feed dog!')\n",
    "else:\n",
    "  print('Dog not hungry. ')"
   ]
  },
  {
   "cell_type": "code",
   "execution_count": 6,
   "id": "489078d5",
   "metadata": {},
   "outputs": [
    {
     "name": "stdout",
     "output_type": "stream",
     "text": [
      "loc is Bank\n"
     ]
    }
   ],
   "source": [
    "loc = 'Bank'\n",
    "if loc == 'Auto Shop':\n",
    "  print('loc is Auto Shot')\n",
    "elif loc == 'Bank':\n",
    "  print('loc is Bank')\n",
    "else:\n",
    "  print('I have no idea')"
   ]
  },
  {
   "attachments": {},
   "cell_type": "markdown",
   "id": "131abfeb",
   "metadata": {},
   "source": [
    "## for loops\n",
    "The term iterable means you can iterate over the object. E.g.: iterate every char in a string, every item in a list, every key in a dictionary. "
   ]
  },
  {
   "cell_type": "code",
   "execution_count": 7,
   "id": "5ea505f2",
   "metadata": {},
   "outputs": [],
   "source": [
    "mylist = [1, 2, 3, 4, 5, 6, 7, 8, 9, 10]"
   ]
  },
  {
   "cell_type": "code",
   "execution_count": 8,
   "id": "e83a165c",
   "metadata": {},
   "outputs": [
    {
     "name": "stdout",
     "output_type": "stream",
     "text": [
      "1\n",
      "2\n",
      "3\n",
      "4\n",
      "5\n",
      "6\n",
      "7\n",
      "8\n",
      "9\n",
      "10\n"
     ]
    }
   ],
   "source": [
    "for num in mylist:\n",
    "  print(num)"
   ]
  },
  {
   "cell_type": "code",
   "execution_count": 10,
   "id": "66b4d753",
   "metadata": {},
   "outputs": [
    {
     "name": "stdout",
     "output_type": "stream",
     "text": [
      "Odd Number: 1\n",
      "2\n",
      "Odd Number: 3\n",
      "4\n",
      "Odd Number: 5\n",
      "6\n",
      "Odd Number: 7\n",
      "8\n",
      "Odd Number: 9\n",
      "10\n"
     ]
    }
   ],
   "source": [
    "for num in mylist:\n",
    "  if num %2 == 0: # check for even\n",
    "    print(num)\n",
    "  else:\n",
    "    print(f'Odd Number: {num}')"
   ]
  },
  {
   "cell_type": "code",
   "execution_count": 11,
   "id": "ce1102fe",
   "metadata": {},
   "outputs": [
    {
     "name": "stdout",
     "output_type": "stream",
     "text": [
      "H\n",
      "e\n",
      "l\n",
      "l\n",
      "o\n",
      " \n",
      "W\n",
      "o\n",
      "r\n",
      "l\n",
      "d\n"
     ]
    }
   ],
   "source": [
    "mystr = 'Hello World'\n",
    "for letter in mystr:\n",
    "  print(letter)"
   ]
  },
  {
   "cell_type": "code",
   "execution_count": 12,
   "id": "06c8606d",
   "metadata": {},
   "outputs": [
    {
     "name": "stdout",
     "output_type": "stream",
     "text": [
      "Cool\n",
      "Cool\n"
     ]
    }
   ],
   "source": [
    "for _ in 'Hi': # use low dash if don't need the var\n",
    "  print('Cool')"
   ]
  },
  {
   "cell_type": "code",
   "execution_count": 13,
   "id": "09dfb884",
   "metadata": {},
   "outputs": [
    {
     "name": "stdout",
     "output_type": "stream",
     "text": [
      "1\n",
      "2\n",
      "3\n"
     ]
    }
   ],
   "source": [
    "tup = (1, 2, 3)\n",
    "for item in tup: # can iterate over tuple\n",
    "  print(item)"
   ]
  },
  {
   "cell_type": "code",
   "execution_count": 14,
   "id": "7d5a6e0e",
   "metadata": {},
   "outputs": [],
   "source": [
    "mylist = [(1, 2), (3, 4), (5, 6)]"
   ]
  },
  {
   "cell_type": "code",
   "execution_count": 15,
   "id": "f5e6aa06",
   "metadata": {},
   "outputs": [
    {
     "name": "stdout",
     "output_type": "stream",
     "text": [
      "(1, 2)\n",
      "(3, 4)\n",
      "(5, 6)\n"
     ]
    }
   ],
   "source": [
    "for item in mylist:\n",
    "  print(item)"
   ]
  },
  {
   "cell_type": "code",
   "execution_count": 16,
   "id": "f838f147",
   "metadata": {},
   "outputs": [
    {
     "name": "stdout",
     "output_type": "stream",
     "text": [
      "1\n",
      "2\n",
      "3\n",
      "4\n",
      "5\n",
      "6\n"
     ]
    }
   ],
   "source": [
    "for (a, b) in mylist: # tuple unpacking\n",
    "  print(a)\n",
    "  print(b)"
   ]
  },
  {
   "cell_type": "code",
   "execution_count": 17,
   "id": "6bb2fcf2",
   "metadata": {},
   "outputs": [
    {
     "name": "stdout",
     "output_type": "stream",
     "text": [
      "2\n",
      "4\n",
      "6\n"
     ]
    }
   ],
   "source": [
    "for a, b in mylist: # tuple unpacking\n",
    "  print(b)"
   ]
  },
  {
   "cell_type": "code",
   "execution_count": 18,
   "id": "9a8b43ca",
   "metadata": {},
   "outputs": [],
   "source": [
    "d = {'k1':1, 'k2':2, 'k3':3}"
   ]
  },
  {
   "cell_type": "code",
   "execution_count": 19,
   "id": "5fbb7823",
   "metadata": {},
   "outputs": [
    {
     "name": "stdout",
     "output_type": "stream",
     "text": [
      "k1\n",
      "k2\n",
      "k3\n"
     ]
    }
   ],
   "source": [
    "for item in d: # by default, only loop over keys in a dict\n",
    "  print(item)"
   ]
  },
  {
   "cell_type": "code",
   "execution_count": 20,
   "id": "e6215e96",
   "metadata": {},
   "outputs": [
    {
     "name": "stdout",
     "output_type": "stream",
     "text": [
      "('k1', 1)\n",
      "('k2', 2)\n",
      "('k3', 3)\n"
     ]
    }
   ],
   "source": [
    "for item in d.items(): # output key-value pair\n",
    "  print(item)"
   ]
  },
  {
   "cell_type": "code",
   "execution_count": 21,
   "id": "40a01193",
   "metadata": {},
   "outputs": [
    {
     "name": "stdout",
     "output_type": "stream",
     "text": [
      "1\n",
      "2\n",
      "3\n"
     ]
    }
   ],
   "source": [
    "for key, val in d.items(): # output key-value pair using tuple unpacking\n",
    "  print(val)"
   ]
  },
  {
   "cell_type": "code",
   "execution_count": 22,
   "id": "8f3d0642",
   "metadata": {},
   "outputs": [
    {
     "name": "stdout",
     "output_type": "stream",
     "text": [
      "1\n",
      "2\n",
      "3\n"
     ]
    }
   ],
   "source": [
    "for val in d.values(): # output only values\n",
    "  print(val)"
   ]
  },
  {
   "attachments": {},
   "cell_type": "markdown",
   "id": "2c9f6aaa",
   "metadata": {},
   "source": [
    "## while loop"
   ]
  },
  {
   "cell_type": "code",
   "execution_count": 24,
   "id": "356877dc",
   "metadata": {},
   "outputs": [
    {
     "name": "stdout",
     "output_type": "stream",
     "text": [
      "The cur val of x is 0\n",
      "The cur val of x is 1\n",
      "The cur val of x is 2\n",
      "The cur val of x is 3\n",
      "The cur val of x is 4\n",
      "x is not less than 5\n"
     ]
    }
   ],
   "source": [
    "x = 0\n",
    "while x < 5:\n",
    "    print(f'The cur val of x is {x}')\n",
    "    x += 1\n",
    "else:\n",
    "    print('x is not less than 5')"
   ]
  },
  {
   "cell_type": "code",
   "execution_count": 25,
   "id": "e5095595",
   "metadata": {},
   "outputs": [],
   "source": [
    "x = [1, 2, 3]\n",
    "for item in x:\n",
    "    # if nothing in this part, then will have error\n",
    "    pass # this does nothing, but help avoid syntax error\n",
    "    # it can act as a place holder for your function content"
   ]
  },
  {
   "cell_type": "code",
   "execution_count": 26,
   "id": "d3362213",
   "metadata": {},
   "outputs": [
    {
     "name": "stdout",
     "output_type": "stream",
     "text": [
      "s\n",
      "m\n",
      "m\n",
      "y\n"
     ]
    }
   ],
   "source": [
    "mystring = 'sammy'\n",
    "for letter in mystring:\n",
    "    if letter == 'a':\n",
    "        continue # Python has continue statement\n",
    "    print(letter)"
   ]
  },
  {
   "cell_type": "code",
   "execution_count": 27,
   "id": "a517575f",
   "metadata": {},
   "outputs": [
    {
     "name": "stdout",
     "output_type": "stream",
     "text": [
      "s\n"
     ]
    }
   ],
   "source": [
    "mystring = 'sammy'\n",
    "for letter in mystring:\n",
    "    if letter == 'a':\n",
    "        break # Python has break statement\n",
    "    print(letter)"
   ]
  },
  {
   "attachments": {},
   "cell_type": "markdown",
   "id": "7d87b49b",
   "metadata": {},
   "source": [
    "## Useful operators"
   ]
  },
  {
   "cell_type": "code",
   "execution_count": 28,
   "id": "dc5ac568",
   "metadata": {},
   "outputs": [],
   "source": [
    "mylist = [1, 2, 3]"
   ]
  },
  {
   "cell_type": "code",
   "execution_count": 29,
   "id": "0d22bddf",
   "metadata": {},
   "outputs": [
    {
     "name": "stdout",
     "output_type": "stream",
     "text": [
      "0\n",
      "1\n",
      "2\n",
      "3\n",
      "4\n",
      "5\n",
      "6\n",
      "7\n",
      "8\n",
      "9\n"
     ]
    }
   ],
   "source": [
    "for num in range(10): # means range [0, 10)\n",
    "    print(num)"
   ]
  },
  {
   "cell_type": "code",
   "execution_count": 30,
   "id": "ad1efabc",
   "metadata": {},
   "outputs": [
    {
     "name": "stdout",
     "output_type": "stream",
     "text": [
      "3\n",
      "4\n",
      "5\n",
      "6\n",
      "7\n",
      "8\n",
      "9\n"
     ]
    }
   ],
   "source": [
    "for num in range(3, 10): # means range [3, 10)\n",
    "    print(num)"
   ]
  },
  {
   "cell_type": "code",
   "execution_count": 31,
   "id": "d64c203c",
   "metadata": {},
   "outputs": [
    {
     "name": "stdout",
     "output_type": "stream",
     "text": [
      "3\n",
      "5\n",
      "7\n",
      "9\n"
     ]
    }
   ],
   "source": [
    "for num in range(3, 10, 2): # means range [3, 10), step of 2\n",
    "    print(num)"
   ]
  },
  {
   "cell_type": "code",
   "execution_count": 32,
   "id": "3dcca9e8",
   "metadata": {},
   "outputs": [
    {
     "data": {
      "text/plain": [
       "[0, 2, 4, 6, 8, 10]"
      ]
     },
     "execution_count": 32,
     "metadata": {},
     "output_type": "execute_result"
    }
   ],
   "source": [
    "list(range(0, 11, 2)) # cast a range to a list"
   ]
  },
  {
   "cell_type": "code",
   "execution_count": 34,
   "id": "7b366ad4",
   "metadata": {},
   "outputs": [
    {
     "name": "stdout",
     "output_type": "stream",
     "text": [
      "at idx 0 the letter is a\n",
      "at idx 1 the letter is b\n",
      "at idx 2 the letter is c\n",
      "at idx 3 the letter is d\n",
      "at idx 4 the letter is e\n"
     ]
    }
   ],
   "source": [
    "idx = 0\n",
    "for letter in 'abcde':\n",
    "    print('at idx {} the letter is {}'.format(idx, letter))\n",
    "    idx += 1"
   ]
  },
  {
   "cell_type": "code",
   "execution_count": 35,
   "id": "b9ae69a2",
   "metadata": {},
   "outputs": [
    {
     "name": "stdout",
     "output_type": "stream",
     "text": [
      "(0, 'a')\n",
      "(1, 'b')\n",
      "(2, 'c')\n",
      "(3, 'd')\n",
      "(4, 'e')\n"
     ]
    }
   ],
   "source": [
    "word = 'abcde'\n",
    "for item in enumerate(word): # use enumerate to do same as above cell\n",
    "    print(item) # each item is a tuple"
   ]
  },
  {
   "cell_type": "code",
   "execution_count": 36,
   "id": "07c6bfb7",
   "metadata": {},
   "outputs": [
    {
     "name": "stdout",
     "output_type": "stream",
     "text": [
      "0 a\n",
      "1 b\n",
      "2 c\n",
      "3 d\n",
      "4 e\n"
     ]
    }
   ],
   "source": [
    "# now add tuple unpacking to above cell\n",
    "word = 'abcde'\n",
    "for idx, letter in enumerate(word): \n",
    "    print(idx, letter) "
   ]
  },
  {
   "cell_type": "code",
   "execution_count": 40,
   "id": "b5ee8800",
   "metadata": {},
   "outputs": [],
   "source": [
    "mylist1 = [1, 2, 3, 4, 5]\n",
    "mylist2 = ['a', 'b', 'c']\n",
    "mylist3 = ['h', 'i']"
   ]
  },
  {
   "cell_type": "code",
   "execution_count": 38,
   "id": "5c50e54a",
   "metadata": {},
   "outputs": [
    {
     "name": "stdout",
     "output_type": "stream",
     "text": [
      "(1, 'a')\n",
      "(2, 'b')\n",
      "(3, 'c')\n"
     ]
    }
   ],
   "source": [
    "for item in zip(mylist1, mylist2): # zip function produces a \"collection\" of tuples\n",
    "    print(item)"
   ]
  },
  {
   "cell_type": "code",
   "execution_count": 41,
   "id": "4a0d3835",
   "metadata": {},
   "outputs": [
    {
     "name": "stdout",
     "output_type": "stream",
     "text": [
      "(1, 'a', 'h')\n",
      "(2, 'b', 'i')\n"
     ]
    }
   ],
   "source": [
    "for item in zip(mylist1, mylist2, mylist3): # zip() takes many inputs, output length is same with the shortest one\n",
    "    print(item)"
   ]
  },
  {
   "cell_type": "code",
   "execution_count": 42,
   "id": "95a690e2",
   "metadata": {},
   "outputs": [
    {
     "data": {
      "text/plain": [
       "[(1, 'a'), (2, 'b'), (3, 'c')]"
      ]
     },
     "execution_count": 42,
     "metadata": {},
     "output_type": "execute_result"
    }
   ],
   "source": [
    "list(zip(mylist1, mylist2)) # cast the output of zip() to a list"
   ]
  },
  {
   "cell_type": "code",
   "execution_count": 43,
   "id": "020b87f9",
   "metadata": {},
   "outputs": [
    {
     "data": {
      "text/plain": [
       "<zip at 0x103493f00>"
      ]
     },
     "execution_count": 43,
     "metadata": {},
     "output_type": "execute_result"
    }
   ],
   "source": [
    "zip(mylist1, mylist2, mylist3) # produces nothing if you do not cast it"
   ]
  },
  {
   "cell_type": "code",
   "execution_count": 44,
   "id": "8df0301d",
   "metadata": {},
   "outputs": [
    {
     "data": {
      "text/plain": [
       "False"
      ]
     },
     "execution_count": 44,
     "metadata": {},
     "output_type": "execute_result"
    }
   ],
   "source": [
    "'x' in [1, 2, 3] # the \"in\" operator"
   ]
  },
  {
   "cell_type": "code",
   "execution_count": 47,
   "id": "d6b2c3e0",
   "metadata": {},
   "outputs": [
    {
     "data": {
      "text/plain": [
       "True"
      ]
     },
     "execution_count": 47,
     "metadata": {},
     "output_type": "execute_result"
    }
   ],
   "source": [
    "'x' in ['x', 'y', 'z'] # \"in\" works for a list"
   ]
  },
  {
   "cell_type": "code",
   "execution_count": 46,
   "id": "55eb5e6a",
   "metadata": {},
   "outputs": [
    {
     "data": {
      "text/plain": [
       "True"
      ]
     },
     "execution_count": 46,
     "metadata": {},
     "output_type": "execute_result"
    }
   ],
   "source": [
    "'abc' in 'xabcdef' # \"in\" also works for string"
   ]
  },
  {
   "cell_type": "code",
   "execution_count": 48,
   "id": "4cf50652",
   "metadata": {},
   "outputs": [
    {
     "data": {
      "text/plain": [
       "False"
      ]
     },
     "execution_count": 48,
     "metadata": {},
     "output_type": "execute_result"
    }
   ],
   "source": [
    "'mykey' in {'key1': 100, 'key2': 200} # \"in\" works in dict"
   ]
  },
  {
   "cell_type": "code",
   "execution_count": 50,
   "id": "815bda30",
   "metadata": {},
   "outputs": [
    {
     "data": {
      "text/plain": [
       "True"
      ]
     },
     "execution_count": 50,
     "metadata": {},
     "output_type": "execute_result"
    }
   ],
   "source": [
    "'mykey' in {'mykey': 100, 'key2': 200}"
   ]
  },
  {
   "cell_type": "code",
   "execution_count": 51,
   "id": "daf13505",
   "metadata": {},
   "outputs": [
    {
     "data": {
      "text/plain": [
       "True"
      ]
     },
     "execution_count": 51,
     "metadata": {},
     "output_type": "execute_result"
    }
   ],
   "source": [
    "d = {'mykey': 100, 'key2': 200}\n",
    "100 in d.values()"
   ]
  },
  {
   "cell_type": "code",
   "execution_count": 52,
   "id": "6c10f0e7",
   "metadata": {},
   "outputs": [
    {
     "data": {
      "text/plain": [
       "1"
      ]
     },
     "execution_count": 52,
     "metadata": {},
     "output_type": "execute_result"
    }
   ],
   "source": [
    "mylist = [1, 3, 4, 5, 5]\n",
    "min(mylist) # return min val in a list"
   ]
  },
  {
   "cell_type": "code",
   "execution_count": 53,
   "id": "4f320ed8",
   "metadata": {},
   "outputs": [
    {
     "data": {
      "text/plain": [
       "5"
      ]
     },
     "execution_count": 53,
     "metadata": {},
     "output_type": "execute_result"
    }
   ],
   "source": [
    "max(mylist)"
   ]
  },
  {
   "cell_type": "code",
   "execution_count": 54,
   "id": "fce6b4ae",
   "metadata": {},
   "outputs": [],
   "source": [
    "from random import shuffle # import a library\n",
    "mylist = [1, 2, 3, 4, 5, 6, 7, 8]\n",
    "shuffle(mylist) # shuffle the list in place"
   ]
  },
  {
   "cell_type": "code",
   "execution_count": 55,
   "id": "4c557ebd",
   "metadata": {},
   "outputs": [
    {
     "data": {
      "text/plain": [
       "[5, 6, 1, 2, 8, 3, 7, 4]"
      ]
     },
     "execution_count": 55,
     "metadata": {},
     "output_type": "execute_result"
    }
   ],
   "source": [
    "mylist"
   ]
  },
  {
   "cell_type": "code",
   "execution_count": 56,
   "id": "8b34248e",
   "metadata": {},
   "outputs": [
    {
     "data": {
      "text/plain": [
       "41"
      ]
     },
     "execution_count": 56,
     "metadata": {},
     "output_type": "execute_result"
    }
   ],
   "source": [
    "from random import randint\n",
    "randint(0, 100) # return a random integer in specified range"
   ]
  },
  {
   "cell_type": "code",
   "execution_count": 57,
   "id": "09989123",
   "metadata": {},
   "outputs": [],
   "source": [
    "my_val = input('What is your name?') # ask for user input, get a string"
   ]
  },
  {
   "cell_type": "code",
   "execution_count": 58,
   "id": "54a5797b",
   "metadata": {},
   "outputs": [
    {
     "data": {
      "text/plain": [
       "'Lisa'"
      ]
     },
     "execution_count": 58,
     "metadata": {},
     "output_type": "execute_result"
    }
   ],
   "source": [
    "my_val"
   ]
  },
  {
   "cell_type": "code",
   "execution_count": null,
   "id": "5d78925c",
   "metadata": {},
   "outputs": [],
   "source": []
  }
 ],
 "metadata": {
  "kernelspec": {
   "display_name": "Python 3.10.7 64-bit",
   "language": "python",
   "name": "python3"
  },
  "language_info": {
   "codemirror_mode": {
    "name": "ipython",
    "version": 3
   },
   "file_extension": ".py",
   "mimetype": "text/x-python",
   "name": "python",
   "nbconvert_exporter": "python",
   "pygments_lexer": "ipython3",
   "version": "3.10.7"
  },
  "vscode": {
   "interpreter": {
    "hash": "b0fa6594d8f4cbf19f97940f81e996739fb7646882a419484c72d19e05852a7e"
   }
  }
 },
 "nbformat": 4,
 "nbformat_minor": 5
}
