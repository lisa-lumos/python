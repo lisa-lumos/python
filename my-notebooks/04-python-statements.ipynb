{
 "cells": [
  {
   "attachments": {},
   "cell_type": "markdown",
   "id": "e26199fe",
   "metadata": {},
   "source": [
    "## if elif and else"
   ]
  },
  {
   "cell_type": "code",
   "execution_count": 4,
   "metadata": {},
   "outputs": [
    {
     "name": "stdout",
     "output_type": "stream",
     "text": [
      "Dog not hungry. \n"
     ]
    }
   ],
   "source": [
    "hungry = False\n",
    "if hungry: \n",
    "  print('Feed dog!')\n",
    "else:\n",
    "  print('Dog not hungry. ')"
   ]
  },
  {
   "cell_type": "code",
   "execution_count": 6,
   "id": "489078d5",
   "metadata": {},
   "outputs": [
    {
     "name": "stdout",
     "output_type": "stream",
     "text": [
      "loc is Bank\n"
     ]
    }
   ],
   "source": [
    "loc = 'Bank'\n",
    "if loc == 'Auto Shop':\n",
    "  print('loc is Auto Shot')\n",
    "elif loc == 'Bank':\n",
    "  print('loc is Bank')\n",
    "else:\n",
    "  print('I have no idea')"
   ]
  },
  {
   "attachments": {},
   "cell_type": "markdown",
   "id": "131abfeb",
   "metadata": {},
   "source": [
    "## for loops\n",
    "The term iterable means you can iterate over the object. E.g.: iterate every char in a string, every item in a list, every key in a dictionary. "
   ]
  },
  {
   "cell_type": "code",
   "execution_count": 7,
   "id": "5ea505f2",
   "metadata": {},
   "outputs": [],
   "source": [
    "mylist = [1, 2, 3, 4, 5, 6, 7, 8, 9, 10]"
   ]
  },
  {
   "cell_type": "code",
   "execution_count": 8,
   "id": "e83a165c",
   "metadata": {},
   "outputs": [
    {
     "name": "stdout",
     "output_type": "stream",
     "text": [
      "1\n",
      "2\n",
      "3\n",
      "4\n",
      "5\n",
      "6\n",
      "7\n",
      "8\n",
      "9\n",
      "10\n"
     ]
    }
   ],
   "source": [
    "for num in mylist:\n",
    "  print(num)"
   ]
  },
  {
   "cell_type": "code",
   "execution_count": 10,
   "id": "66b4d753",
   "metadata": {},
   "outputs": [
    {
     "name": "stdout",
     "output_type": "stream",
     "text": [
      "Odd Number: 1\n",
      "2\n",
      "Odd Number: 3\n",
      "4\n",
      "Odd Number: 5\n",
      "6\n",
      "Odd Number: 7\n",
      "8\n",
      "Odd Number: 9\n",
      "10\n"
     ]
    }
   ],
   "source": [
    "for num in mylist:\n",
    "  if num %2 == 0: # check for even\n",
    "    print(num)\n",
    "  else:\n",
    "    print(f'Odd Number: {num}')"
   ]
  },
  {
   "cell_type": "code",
   "execution_count": 11,
   "id": "ce1102fe",
   "metadata": {},
   "outputs": [
    {
     "name": "stdout",
     "output_type": "stream",
     "text": [
      "H\n",
      "e\n",
      "l\n",
      "l\n",
      "o\n",
      " \n",
      "W\n",
      "o\n",
      "r\n",
      "l\n",
      "d\n"
     ]
    }
   ],
   "source": [
    "mystr = 'Hello World'\n",
    "for letter in mystr:\n",
    "  print(letter)"
   ]
  },
  {
   "cell_type": "code",
   "execution_count": 12,
   "id": "06c8606d",
   "metadata": {},
   "outputs": [
    {
     "name": "stdout",
     "output_type": "stream",
     "text": [
      "Cool\n",
      "Cool\n"
     ]
    }
   ],
   "source": [
    "for _ in 'Hi': # use low dash if don't need the var\n",
    "  print('Cool')"
   ]
  },
  {
   "cell_type": "code",
   "execution_count": 13,
   "id": "09dfb884",
   "metadata": {},
   "outputs": [
    {
     "name": "stdout",
     "output_type": "stream",
     "text": [
      "1\n",
      "2\n",
      "3\n"
     ]
    }
   ],
   "source": [
    "tup = (1, 2, 3)\n",
    "for item in tup: # can iterate over tuple\n",
    "  print(item)"
   ]
  },
  {
   "cell_type": "code",
   "execution_count": 14,
   "id": "7d5a6e0e",
   "metadata": {},
   "outputs": [],
   "source": [
    "mylist = [(1, 2), (3, 4), (5, 6)]"
   ]
  },
  {
   "cell_type": "code",
   "execution_count": 15,
   "id": "f5e6aa06",
   "metadata": {},
   "outputs": [
    {
     "name": "stdout",
     "output_type": "stream",
     "text": [
      "(1, 2)\n",
      "(3, 4)\n",
      "(5, 6)\n"
     ]
    }
   ],
   "source": [
    "for item in mylist:\n",
    "  print(item)"
   ]
  },
  {
   "cell_type": "code",
   "execution_count": 16,
   "id": "f838f147",
   "metadata": {},
   "outputs": [
    {
     "name": "stdout",
     "output_type": "stream",
     "text": [
      "1\n",
      "2\n",
      "3\n",
      "4\n",
      "5\n",
      "6\n"
     ]
    }
   ],
   "source": [
    "for (a, b) in mylist: # tuple unpacking\n",
    "  print(a)\n",
    "  print(b)"
   ]
  },
  {
   "cell_type": "code",
   "execution_count": 17,
   "id": "6bb2fcf2",
   "metadata": {},
   "outputs": [
    {
     "name": "stdout",
     "output_type": "stream",
     "text": [
      "2\n",
      "4\n",
      "6\n"
     ]
    }
   ],
   "source": [
    "for a, b in mylist: # tuple unpacking\n",
    "  print(b)"
   ]
  },
  {
   "cell_type": "code",
   "execution_count": 18,
   "id": "9a8b43ca",
   "metadata": {},
   "outputs": [],
   "source": [
    "d = {'k1':1, 'k2':2, 'k3':3}"
   ]
  },
  {
   "cell_type": "code",
   "execution_count": 19,
   "id": "5fbb7823",
   "metadata": {},
   "outputs": [
    {
     "name": "stdout",
     "output_type": "stream",
     "text": [
      "k1\n",
      "k2\n",
      "k3\n"
     ]
    }
   ],
   "source": [
    "for item in d: # by default, only loop over keys in a dict\n",
    "  print(item)"
   ]
  },
  {
   "cell_type": "code",
   "execution_count": 20,
   "id": "e6215e96",
   "metadata": {},
   "outputs": [
    {
     "name": "stdout",
     "output_type": "stream",
     "text": [
      "('k1', 1)\n",
      "('k2', 2)\n",
      "('k3', 3)\n"
     ]
    }
   ],
   "source": [
    "for item in d.items(): # output key-value pair\n",
    "  print(item)"
   ]
  },
  {
   "cell_type": "code",
   "execution_count": 21,
   "id": "40a01193",
   "metadata": {},
   "outputs": [
    {
     "name": "stdout",
     "output_type": "stream",
     "text": [
      "1\n",
      "2\n",
      "3\n"
     ]
    }
   ],
   "source": [
    "for key, val in d.items(): # output key-value pair using tuple unpacking\n",
    "  print(val)"
   ]
  },
  {
   "cell_type": "code",
   "execution_count": 22,
   "id": "8f3d0642",
   "metadata": {},
   "outputs": [
    {
     "name": "stdout",
     "output_type": "stream",
     "text": [
      "1\n",
      "2\n",
      "3\n"
     ]
    }
   ],
   "source": [
    "for val in d.values(): # output only values\n",
    "  print(val)"
   ]
  },
  {
   "cell_type": "code",
   "execution_count": null,
   "id": "2c9f6aaa",
   "metadata": {},
   "outputs": [],
   "source": []
  }
 ],
 "metadata": {
  "kernelspec": {
   "display_name": "Python 3.10.7 64-bit",
   "language": "python",
   "name": "python3"
  },
  "language_info": {
   "codemirror_mode": {
    "name": "ipython",
    "version": 3
   },
   "file_extension": ".py",
   "mimetype": "text/x-python",
   "name": "python",
   "nbconvert_exporter": "python",
   "pygments_lexer": "ipython3",
   "version": "3.10.7"
  },
  "vscode": {
   "interpreter": {
    "hash": "b0fa6594d8f4cbf19f97940f81e996739fb7646882a419484c72d19e05852a7e"
   }
  }
 },
 "nbformat": 4,
 "nbformat_minor": 5
}
