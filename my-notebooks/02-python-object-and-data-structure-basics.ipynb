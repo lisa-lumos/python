{
 "cells": [
  {
   "cell_type": "markdown",
   "id": "49fc152e",
   "metadata": {},
   "source": [
    "### Python numbers"
   ]
  },
  {
   "cell_type": "code",
   "execution_count": 16,
   "id": "3743c5f6",
   "metadata": {},
   "outputs": [
    {
     "data": {
      "text/plain": [
       "3"
      ]
     },
     "execution_count": 16,
     "metadata": {},
     "output_type": "execute_result"
    }
   ],
   "source": [
    "2 + 1 # plus"
   ]
  },
  {
   "cell_type": "code",
   "execution_count": 2,
   "id": "56b9c0cf",
   "metadata": {},
   "outputs": [
    {
     "data": {
      "text/plain": [
       "1"
      ]
     },
     "execution_count": 2,
     "metadata": {},
     "output_type": "execute_result"
    }
   ],
   "source": [
    "2 - 1 # minus"
   ]
  },
  {
   "cell_type": "code",
   "execution_count": 3,
   "id": "dd1df61b",
   "metadata": {},
   "outputs": [
    {
     "data": {
      "text/plain": [
       "4"
      ]
     },
     "execution_count": 3,
     "metadata": {},
     "output_type": "execute_result"
    }
   ],
   "source": [
    "2 * 2 # multiply"
   ]
  },
  {
   "cell_type": "code",
   "execution_count": 4,
   "id": "ecfdaa3e",
   "metadata": {},
   "outputs": [
    {
     "data": {
      "text/plain": [
       "0.6666666666666666"
      ]
     },
     "execution_count": 4,
     "metadata": {},
     "output_type": "execute_result"
    }
   ],
   "source": [
    "2 / 3 # divide"
   ]
  },
  {
   "cell_type": "code",
   "execution_count": 6,
   "id": "c3f372c5",
   "metadata": {},
   "outputs": [
    {
     "data": {
      "text/plain": [
       "3"
      ]
     },
     "execution_count": 6,
     "metadata": {},
     "output_type": "execute_result"
    }
   ],
   "source": [
    "7 % 4 # Modulo"
   ]
  },
  {
   "cell_type": "code",
   "execution_count": 9,
   "id": "a5c4385d",
   "metadata": {},
   "outputs": [
    {
     "data": {
      "text/plain": [
       "2"
      ]
     },
     "execution_count": 9,
     "metadata": {},
     "output_type": "execute_result"
    }
   ],
   "source": [
    "(-7) % 3 # Modulo"
   ]
  },
  {
   "cell_type": "code",
   "execution_count": 10,
   "id": "b76eaf1b",
   "metadata": {},
   "outputs": [
    {
     "data": {
      "text/plain": [
       "8"
      ]
     },
     "execution_count": 10,
     "metadata": {},
     "output_type": "execute_result"
    }
   ],
   "source": [
    "2 ** 3 # power"
   ]
  },
  {
   "cell_type": "markdown",
   "id": "35464ca2",
   "metadata": {},
   "source": [
    "`https://docs.python.org/2/tutorial/floatingpoint.html`\n",
    "No matter how many base 2 digits you’re willing to use, the decimal value 0.1 cannot be represented exactly as a base 2 fraction. In base 2, 1/10 is the infinitely repeating fraction. On a typical machine running Python, there are 53 bits of precision available for a Python float. \n",
    "\n",
    "It’s easy to forget that the stored value is an approximation to the original decimal fraction, because of the way that floats are displayed at the interpreter prompt."
   ]
  },
  {
   "cell_type": "code",
   "execution_count": 12,
   "id": "b95aef52",
   "metadata": {},
   "outputs": [
    {
     "data": {
      "text/plain": [
       "0.30000000000000004"
      ]
     },
     "execution_count": 12,
     "metadata": {},
     "output_type": "execute_result"
    }
   ],
   "source": [
    "0.1+0.2 # approximation with decimal"
   ]
  },
  {
   "cell_type": "markdown",
   "id": "14183293",
   "metadata": {},
   "source": [
    "Other surprises follow from this one. \n",
    "For example, if you try to round the value 2.675 to two decimal places, you get this:"
   ]
  },
  {
   "cell_type": "code",
   "execution_count": 14,
   "id": "7869b9bc",
   "metadata": {},
   "outputs": [
    {
     "data": {
      "text/plain": [
       "2.67"
      ]
     },
     "execution_count": 14,
     "metadata": {},
     "output_type": "execute_result"
    }
   ],
   "source": [
    "round(2.675, 2) # surprise"
   ]
  },
  {
   "cell_type": "markdown",
   "id": "ebcd79d0",
   "metadata": {},
   "source": [
    "Since the decimal fraction 2.675 is exactly halfway between 2.67 and 2.68, you might expect the result here to be (a binary approximation to) 2.68. It’s not, because when the decimal string 2.675 is converted to a binary floating-point number, it’s again replaced with a binary approximation, whose exact value is 2.67499999999999982236431605997495353221893310546875. \n",
    "\n",
    "If you’re in a situation where you care which way your decimal halfway-cases are rounded, you should consider using the decimal module, which provides a nice way to “see” the exact value that’s stored in any particular Python float:"
   ]
  },
  {
   "cell_type": "code",
   "execution_count": 15,
   "id": "c72ed26d",
   "metadata": {},
   "outputs": [
    {
     "data": {
      "text/plain": [
       "Decimal('2.67499999999999982236431605997495353221893310546875')"
      ]
     },
     "execution_count": 15,
     "metadata": {},
     "output_type": "execute_result"
    }
   ],
   "source": [
    "from decimal import Decimal\n",
    "Decimal(2.675) # to see the exact value "
   ]
  },
  {
   "cell_type": "markdown",
   "id": "c7c36038",
   "metadata": {},
   "source": [
    "Still, don’t be unduly wary of floating-point! The errors in Python float operations are inherited from the floating-point hardware, and on most machines are on the order of no more than 1 part in `2**53` per operation. That’s more than adequate for most tasks, but you do need to keep in mind that it’s not decimal arithmetic, and that every float operation can suffer a new rounding error.\n",
    "\n",
    "While pathological cases do exist, for most casual use of floating-point arithmetic you’ll see the result you expect in the end if you simply round the display of your final results to the number of decimal digits you expect."
   ]
  },
  {
   "cell_type": "markdown",
   "id": "cddb896b",
   "metadata": {},
   "source": [
    "### Variable Assignments"
   ]
  },
  {
   "cell_type": "code",
   "execution_count": 17,
   "id": "0a14143a",
   "metadata": {},
   "outputs": [],
   "source": [
    "a = 5"
   ]
  },
  {
   "cell_type": "code",
   "execution_count": 18,
   "id": "e4e8d395",
   "metadata": {},
   "outputs": [
    {
     "data": {
      "text/plain": [
       "5"
      ]
     },
     "execution_count": 18,
     "metadata": {},
     "output_type": "execute_result"
    }
   ],
   "source": [
    "a"
   ]
  },
  {
   "cell_type": "code",
   "execution_count": 19,
   "id": "09dd0f71",
   "metadata": {},
   "outputs": [],
   "source": [
    "a = a + a"
   ]
  },
  {
   "cell_type": "code",
   "execution_count": 20,
   "id": "18660cd9",
   "metadata": {},
   "outputs": [
    {
     "data": {
      "text/plain": [
       "10"
      ]
     },
     "execution_count": 20,
     "metadata": {},
     "output_type": "execute_result"
    }
   ],
   "source": [
    "a"
   ]
  },
  {
   "cell_type": "code",
   "execution_count": 21,
   "id": "e179e5ae",
   "metadata": {},
   "outputs": [
    {
     "data": {
      "text/plain": [
       "int"
      ]
     },
     "execution_count": 21,
     "metadata": {},
     "output_type": "execute_result"
    }
   ],
   "source": [
    "type(a) # return type of a variable"
   ]
  },
  {
   "cell_type": "code",
   "execution_count": 22,
   "id": "23227111",
   "metadata": {},
   "outputs": [],
   "source": [
    "a = 3.2 # example of dynamic typing"
   ]
  },
  {
   "cell_type": "code",
   "execution_count": 24,
   "id": "63230ba2",
   "metadata": {},
   "outputs": [
    {
     "data": {
      "text/plain": [
       "float"
      ]
     },
     "execution_count": 24,
     "metadata": {},
     "output_type": "execute_result"
    }
   ],
   "source": [
    "type(a)"
   ]
  },
  {
   "cell_type": "code",
   "execution_count": 25,
   "id": "086a4b3e",
   "metadata": {},
   "outputs": [],
   "source": [
    "income = 3\n",
    "tax_rate = 0.2\n",
    "tax_amount = income * tax_rate"
   ]
  },
  {
   "cell_type": "code",
   "execution_count": 26,
   "id": "0fe271cd",
   "metadata": {},
   "outputs": [
    {
     "data": {
      "text/plain": [
       "0.6000000000000001"
      ]
     },
     "execution_count": 26,
     "metadata": {},
     "output_type": "execute_result"
    }
   ],
   "source": [
    "tax_amount"
   ]
  },
  {
   "cell_type": "markdown",
   "id": "9a36b41a",
   "metadata": {},
   "source": [
    "### Strings"
   ]
  },
  {
   "cell_type": "code",
   "execution_count": 1,
   "id": "c67f9d4f",
   "metadata": {},
   "outputs": [
    {
     "data": {
      "text/plain": [
       "'hello'"
      ]
     },
     "execution_count": 1,
     "metadata": {},
     "output_type": "execute_result"
    }
   ],
   "source": [
    "'hello' # string example"
   ]
  },
  {
   "cell_type": "code",
   "execution_count": 3,
   "id": "515e48e9",
   "metadata": {},
   "outputs": [
    {
     "data": {
      "text/plain": [
       "'This is a string'"
      ]
     },
     "execution_count": 3,
     "metadata": {},
     "output_type": "execute_result"
    }
   ],
   "source": [
    "'This is a string'"
   ]
  },
  {
   "cell_type": "code",
   "execution_count": 4,
   "id": "6d6adc52",
   "metadata": {},
   "outputs": [
    {
     "data": {
      "text/plain": [
       "\"I'm learning Python\""
      ]
     },
     "execution_count": 4,
     "metadata": {},
     "output_type": "execute_result"
    }
   ],
   "source": [
    "\"I'm learning Python\" # take advantage of single or double quotes"
   ]
  },
  {
   "cell_type": "code",
   "execution_count": 6,
   "id": "720c1422",
   "metadata": {},
   "outputs": [
    {
     "name": "stdout",
     "output_type": "stream",
     "text": [
      "hello\n",
      "world\n"
     ]
    }
   ],
   "source": [
    "print('hello')\n",
    "print(\"world\")"
   ]
  },
  {
   "cell_type": "code",
   "execution_count": 7,
   "id": "db0060eb",
   "metadata": {},
   "outputs": [
    {
     "name": "stdout",
     "output_type": "stream",
     "text": [
      "hello \n",
      " world\n"
     ]
    }
   ],
   "source": [
    "print('hello \\n world') # have a new line in a string"
   ]
  },
  {
   "cell_type": "code",
   "execution_count": 8,
   "id": "14b67c38",
   "metadata": {},
   "outputs": [
    {
     "name": "stdout",
     "output_type": "stream",
     "text": [
      "hello \tworld\n"
     ]
    }
   ],
   "source": [
    "print('hello \\tworld') # have a tab in a string"
   ]
  },
  {
   "cell_type": "code",
   "execution_count": 10,
   "id": "9e058595",
   "metadata": {},
   "outputs": [
    {
     "data": {
      "text/plain": [
       "11"
      ]
     },
     "execution_count": 10,
     "metadata": {},
     "output_type": "execute_result"
    }
   ],
   "source": [
    "len('hello round') # length of string"
   ]
  },
  {
   "cell_type": "markdown",
   "id": "72425913",
   "metadata": {},
   "source": [
    "### Indexing and Slicing with Strings"
   ]
  },
  {
   "cell_type": "code",
   "execution_count": 1,
   "id": "f34a9bed",
   "metadata": {},
   "outputs": [],
   "source": [
    "s = \"Hello World!\""
   ]
  },
  {
   "cell_type": "code",
   "execution_count": 2,
   "id": "0c4139e9",
   "metadata": {},
   "outputs": [
    {
     "data": {
      "text/plain": [
       "'H'"
      ]
     },
     "execution_count": 2,
     "metadata": {},
     "output_type": "execute_result"
    }
   ],
   "source": [
    "s[0] # get a char out of string"
   ]
  },
  {
   "cell_type": "code",
   "execution_count": 4,
   "id": "0f182878",
   "metadata": {},
   "outputs": [
    {
     "data": {
      "text/plain": [
       "'l'"
      ]
     },
     "execution_count": 4,
     "metadata": {},
     "output_type": "execute_result"
    }
   ],
   "source": [
    "s[9]"
   ]
  },
  {
   "cell_type": "code",
   "execution_count": 8,
   "id": "525e841b",
   "metadata": {},
   "outputs": [
    {
     "data": {
      "text/plain": [
       "'l'"
      ]
     },
     "execution_count": 8,
     "metadata": {},
     "output_type": "execute_result"
    }
   ],
   "source": [
    "s[-3] # reverese indexing"
   ]
  },
  {
   "cell_type": "code",
   "execution_count": 9,
   "id": "cb4e3f5f",
   "metadata": {},
   "outputs": [
    {
     "data": {
      "text/plain": [
       "'llo World!'"
      ]
     },
     "execution_count": 9,
     "metadata": {},
     "output_type": "execute_result"
    }
   ],
   "source": [
    "s[2:] # get substr starting at idx=2"
   ]
  },
  {
   "cell_type": "code",
   "execution_count": 10,
   "id": "91850532",
   "metadata": {},
   "outputs": [
    {
     "data": {
      "text/plain": [
       "'He'"
      ]
     },
     "execution_count": 10,
     "metadata": {},
     "output_type": "execute_result"
    }
   ],
   "source": [
    "s[:2] # get the substr up to but exclusive idx=2"
   ]
  },
  {
   "cell_type": "code",
   "execution_count": 11,
   "id": "f1a4a69f",
   "metadata": {},
   "outputs": [
    {
     "data": {
      "text/plain": [
       "'llo'"
      ]
     },
     "execution_count": 11,
     "metadata": {},
     "output_type": "execute_result"
    }
   ],
   "source": [
    "s[2:5] # get the substr start at idx=2 and ends at idx=5 (exclusive)"
   ]
  },
  {
   "cell_type": "code",
   "execution_count": 12,
   "id": "c3e59a5e",
   "metadata": {},
   "outputs": [
    {
     "data": {
      "text/plain": [
       "'Hello World!'"
      ]
     },
     "execution_count": 12,
     "metadata": {},
     "output_type": "execute_result"
    }
   ],
   "source": [
    "s[::] # get the whole string, with stepsize unspecified"
   ]
  },
  {
   "cell_type": "code",
   "execution_count": 13,
   "id": "06df9cab",
   "metadata": {},
   "outputs": [
    {
     "data": {
      "text/plain": [
       "'HloWrd'"
      ]
     },
     "execution_count": 13,
     "metadata": {},
     "output_type": "execute_result"
    }
   ],
   "source": [
    "s[::2] # get the whole string with stepsize=2"
   ]
  },
  {
   "cell_type": "code",
   "execution_count": 14,
   "id": "b3d72050",
   "metadata": {},
   "outputs": [
    {
     "data": {
      "text/plain": [
       "'loW'"
      ]
     },
     "execution_count": 14,
     "metadata": {},
     "output_type": "execute_result"
    }
   ],
   "source": [
    "s[2:7:2] # get the substring idx = [2, 7) with stepsize=2. [start:stop:stepsize]"
   ]
  },
  {
   "cell_type": "code",
   "execution_count": 15,
   "id": "69efc481",
   "metadata": {},
   "outputs": [
    {
     "data": {
      "text/plain": [
       "'!dlroW olleH'"
      ]
     },
     "execution_count": 15,
     "metadata": {},
     "output_type": "execute_result"
    }
   ],
   "source": [
    "s[::-1] # reverse the string"
   ]
  },
  {
   "cell_type": "markdown",
   "id": "3774e100",
   "metadata": {},
   "source": [
    "### String properties and methods"
   ]
  },
  {
   "cell_type": "code",
   "execution_count": 27,
   "id": "00d41ba8",
   "metadata": {},
   "outputs": [],
   "source": [
    "name = 'Sam'"
   ]
  },
  {
   "cell_type": "code",
   "execution_count": 18,
   "id": "4d821a98",
   "metadata": {},
   "outputs": [
    {
     "ename": "TypeError",
     "evalue": "'str' object does not support item assignment",
     "output_type": "error",
     "traceback": [
      "\u001b[0;31m---------------------------------------------------------------------------\u001b[0m",
      "\u001b[0;31mTypeError\u001b[0m                                 Traceback (most recent call last)",
      "\u001b[0;32m/var/folders/bn/yypl5g397pz61ngtbr4xsbrc0000gn/T/ipykernel_78033/1930518064.py\u001b[0m in \u001b[0;36m<module>\u001b[0;34m\u001b[0m\n\u001b[0;32m----> 1\u001b[0;31m \u001b[0mname\u001b[0m\u001b[0;34m[\u001b[0m\u001b[0;36m0\u001b[0m\u001b[0;34m]\u001b[0m \u001b[0;34m=\u001b[0m \u001b[0;34m'P'\u001b[0m \u001b[0;31m# TypeError due to string is immutable\u001b[0m\u001b[0;34m\u001b[0m\u001b[0;34m\u001b[0m\u001b[0m\n\u001b[0m\u001b[1;32m      2\u001b[0m \u001b[0;31m# So if want to change it, will need to create a new string.\u001b[0m\u001b[0;34m\u001b[0m\u001b[0;34m\u001b[0m\u001b[0m\n",
      "\u001b[0;31mTypeError\u001b[0m: 'str' object does not support item assignment"
     ]
    }
   ],
   "source": [
    "name[0] = 'P' # TypeError due to string is immutable\n",
    "# So if want to change it, will need to create a new string. "
   ]
  },
  {
   "cell_type": "code",
   "execution_count": 28,
   "id": "9ca01641",
   "metadata": {},
   "outputs": [],
   "source": [
    "name2 = 'P' + name[1:] # string concatenation"
   ]
  },
  {
   "cell_type": "code",
   "execution_count": 29,
   "id": "3fa9439d",
   "metadata": {},
   "outputs": [
    {
     "data": {
      "text/plain": [
       "'Pam'"
      ]
     },
     "execution_count": 29,
     "metadata": {},
     "output_type": "execute_result"
    }
   ],
   "source": [
    "name2"
   ]
  },
  {
   "cell_type": "code",
   "execution_count": 30,
   "id": "493b4cbb",
   "metadata": {},
   "outputs": [],
   "source": [
    "name3 = name * 5 # multiplication of strings"
   ]
  },
  {
   "cell_type": "code",
   "execution_count": 31,
   "id": "80329fcb",
   "metadata": {},
   "outputs": [
    {
     "data": {
      "text/plain": [
       "'SamSamSamSamSam'"
      ]
     },
     "execution_count": 31,
     "metadata": {},
     "output_type": "execute_result"
    }
   ],
   "source": [
    "name3"
   ]
  },
  {
   "cell_type": "code",
   "execution_count": 32,
   "id": "4837d91f",
   "metadata": {},
   "outputs": [
    {
     "data": {
      "text/plain": [
       "'SAM'"
      ]
     },
     "execution_count": 32,
     "metadata": {},
     "output_type": "execute_result"
    }
   ],
   "source": [
    "# type name. then press tab key would show all string methods\n",
    "name.upper() # convert to upper case\n",
    "# this do not affect the name string\n",
    "# you need to assign it to save the result to a variable"
   ]
  },
  {
   "cell_type": "code",
   "execution_count": 33,
   "id": "e8ede879",
   "metadata": {},
   "outputs": [
    {
     "data": {
      "text/plain": [
       "'name'"
      ]
     },
     "execution_count": 33,
     "metadata": {},
     "output_type": "execute_result"
    }
   ],
   "source": [
    "\"NAME\".lower() # convert to lower case"
   ]
  },
  {
   "cell_type": "code",
   "execution_count": 34,
   "id": "a759d097",
   "metadata": {},
   "outputs": [
    {
     "data": {
      "text/plain": [
       "['Hello', 'World!']"
      ]
     },
     "execution_count": 34,
     "metadata": {},
     "output_type": "execute_result"
    }
   ],
   "source": [
    "\"Hello World!\".split() # split a string by space, return a list"
   ]
  },
  {
   "cell_type": "code",
   "execution_count": 35,
   "id": "b381ac56",
   "metadata": {},
   "outputs": [
    {
     "data": {
      "text/plain": [
       "['Hell', ' W', 'rld!']"
      ]
     },
     "execution_count": 35,
     "metadata": {},
     "output_type": "execute_result"
    }
   ],
   "source": [
    "\"Hello World!\".split(\"o\") # split by specified string"
   ]
  },
  {
   "cell_type": "code",
   "execution_count": 36,
   "id": "285f2f4b",
   "metadata": {},
   "outputs": [
    {
     "data": {
      "text/plain": [
       "['Hell', 'World!']"
      ]
     },
     "execution_count": 36,
     "metadata": {},
     "output_type": "execute_result"
    }
   ],
   "source": [
    "\"Hello World!\".split(\"o \") # split by specified string"
   ]
  },
  {
   "cell_type": "code",
   "execution_count": null,
   "id": "6d7df768",
   "metadata": {},
   "outputs": [],
   "source": []
  }
 ],
 "metadata": {
  "kernelspec": {
   "display_name": "Python 3 (ipykernel)",
   "language": "python",
   "name": "python3"
  },
  "language_info": {
   "codemirror_mode": {
    "name": "ipython",
    "version": 3
   },
   "file_extension": ".py",
   "mimetype": "text/x-python",
   "name": "python",
   "nbconvert_exporter": "python",
   "pygments_lexer": "ipython3",
   "version": "3.9.13"
  }
 },
 "nbformat": 4,
 "nbformat_minor": 5
}
